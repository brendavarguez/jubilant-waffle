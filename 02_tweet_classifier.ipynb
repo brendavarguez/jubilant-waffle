{
 "cells": [
  {
   "cell_type": "code",
   "execution_count": 1,
   "metadata": {},
   "outputs": [],
   "source": [
    "import re\n",
    "import glob\n",
    "import nltk\n",
    "import unidecode\n",
    "import numpy as np\n",
    "import unicodedata\n",
    "import contractions\n",
    "import pandas as pd\n",
    "#from bs4 import BeautifulSoup\n",
    "from collections import Counter\n",
    "from nltk.corpus import stopwords\n",
    "from googletrans import Translator\n",
    "from sklearn.metrics import classification_report\n",
    "from sklearn.model_selection import train_test_split\n",
    "from tensorflow.keras import models, layers, callbacks, preprocessing\n",
    "from sklearn.metrics import confusion_matrix, f1_score, accuracy_score, precision_score, recall_score\n",
    "\n",
    "import warnings\n",
    "warnings.filterwarnings('ignore')"
   ]
  },
  {
   "cell_type": "markdown",
   "metadata": {},
   "source": [
    "## 1. Data"
   ]
  },
  {
   "cell_type": "code",
   "execution_count": 2,
   "metadata": {},
   "outputs": [
    {
     "name": "stdout",
     "output_type": "stream",
     "text": [
      "(159571, 2)\n"
     ]
    },
    {
     "data": {
      "text/html": [
       "<div>\n",
       "<style scoped>\n",
       "    .dataframe tbody tr th:only-of-type {\n",
       "        vertical-align: middle;\n",
       "    }\n",
       "\n",
       "    .dataframe tbody tr th {\n",
       "        vertical-align: top;\n",
       "    }\n",
       "\n",
       "    .dataframe thead th {\n",
       "        text-align: right;\n",
       "    }\n",
       "</style>\n",
       "<table border=\"1\" class=\"dataframe\">\n",
       "  <thead>\n",
       "    <tr style=\"text-align: right;\">\n",
       "      <th></th>\n",
       "      <th>text</th>\n",
       "      <th>target</th>\n",
       "    </tr>\n",
       "  </thead>\n",
       "  <tbody>\n",
       "    <tr>\n",
       "      <th>0</th>\n",
       "      <td>Explanation\\nWhy the edits made under my usern...</td>\n",
       "      <td>0</td>\n",
       "    </tr>\n",
       "    <tr>\n",
       "      <th>1</th>\n",
       "      <td>D'aww! He matches this background colour I'm s...</td>\n",
       "      <td>0</td>\n",
       "    </tr>\n",
       "  </tbody>\n",
       "</table>\n",
       "</div>"
      ],
      "text/plain": [
       "                                                text  target\n",
       "0  Explanation\\nWhy the edits made under my usern...       0\n",
       "1  D'aww! He matches this background colour I'm s...       0"
      ]
     },
     "execution_count": 2,
     "metadata": {},
     "output_type": "execute_result"
    }
   ],
   "source": [
    "jigsaw_tweets = pd.read_csv(\"jigsaw_toxic_data/train.csv\")\n",
    "jigsaw_tweets = jigsaw_tweets[[\"comment_text\",\"toxic\"]].rename(columns = {\"comment_text\":\"text\", \"toxic\":\"target\"})\n",
    "print(jigsaw_tweets.shape)\n",
    "jigsaw_tweets.head(2)"
   ]
  },
  {
   "cell_type": "code",
   "execution_count": 3,
   "metadata": {},
   "outputs": [
    {
     "data": {
      "text/plain": [
       "0    144277\n",
       "1     15294\n",
       "Name: target, dtype: int64"
      ]
     },
     "execution_count": 3,
     "metadata": {},
     "output_type": "execute_result"
    }
   ],
   "source": [
    "# The class is unbalanced :(\n",
    "jigsaw_tweets.target.value_counts()"
   ]
  },
  {
   "cell_type": "raw",
   "metadata": {},
   "source": [
    "neg = jigsaw_tweets[jigsaw_tweets[\"target\"] == 0][0:50000].reset_index(drop = True)\n",
    "pos = jigsaw_tweets[jigsaw_tweets[\"target\"] == 1].reset_index(drop = True)\n",
    "jigsaw_tweets = neg.append(pos)\n",
    "print(jigsaw_tweets.shape)\n",
    "jigsaw_tweets.head(2)"
   ]
  },
  {
   "cell_type": "code",
   "execution_count": 4,
   "metadata": {},
   "outputs": [
    {
     "data": {
      "text/plain": [
       "0    144277\n",
       "1     15294\n",
       "Name: target, dtype: int64"
      ]
     },
     "execution_count": 4,
     "metadata": {},
     "output_type": "execute_result"
    }
   ],
   "source": [
    "# The class is unbalanced :(\n",
    "jigsaw_tweets.target.value_counts()"
   ]
  },
  {
   "cell_type": "code",
   "execution_count": 7,
   "metadata": {},
   "outputs": [
    {
     "name": "stdout",
     "output_type": "stream",
     "text": [
      "(288554, 2)\n"
     ]
    },
    {
     "data": {
      "text/html": [
       "<div>\n",
       "<style scoped>\n",
       "    .dataframe tbody tr th:only-of-type {\n",
       "        vertical-align: middle;\n",
       "    }\n",
       "\n",
       "    .dataframe tbody tr th {\n",
       "        vertical-align: top;\n",
       "    }\n",
       "\n",
       "    .dataframe thead th {\n",
       "        text-align: right;\n",
       "    }\n",
       "</style>\n",
       "<table border=\"1\" class=\"dataframe\">\n",
       "  <thead>\n",
       "    <tr style=\"text-align: right;\">\n",
       "      <th></th>\n",
       "      <th>text</th>\n",
       "      <th>target</th>\n",
       "    </tr>\n",
       "  </thead>\n",
       "  <tbody>\n",
       "    <tr>\n",
       "      <th>0</th>\n",
       "      <td>Explanation\\nWhy the edits made under my usern...</td>\n",
       "      <td>0</td>\n",
       "    </tr>\n",
       "    <tr>\n",
       "      <th>1</th>\n",
       "      <td>D'aww! He matches this background colour I'm s...</td>\n",
       "      <td>0</td>\n",
       "    </tr>\n",
       "  </tbody>\n",
       "</table>\n",
       "</div>"
      ],
      "text/plain": [
       "                                                text  target\n",
       "0  Explanation\\nWhy the edits made under my usern...       0\n",
       "1  D'aww! He matches this background colour I'm s...       0"
      ]
     },
     "execution_count": 7,
     "metadata": {},
     "output_type": "execute_result"
    }
   ],
   "source": [
    "# Read more data\n",
    "names = [\"target\", \"id\", \"date\", \"flag\", \"user\", \"text\"]\n",
    "more_tweets = pd.read_csv(\"jigsaw_toxic_data/more_data/more_tweets.csv\", names = names)\n",
    "\n",
    "# Keep only toxic comments\n",
    "more_tweets = more_tweets[more_tweets[\"target\"] == 0].reset_index(drop = True)\n",
    "more_tweets = more_tweets[[\"text\", \"target\"]]\n",
    "\n",
    "# Select only the amount of data required to \"level\" \n",
    "# both classes (toxic and non-toxic)\n",
    "more_tweets = more_tweets[0:128983]\n",
    "\n",
    "# Replace from 0 to 1\n",
    "more_tweets[\"target\"] = 1\n",
    "\n",
    "# Append data to main dataframe\n",
    "jigsaw_tweets = jigsaw_tweets.append(more_tweets).reset_index(drop = True)\n",
    "print(jigsaw_tweets.shape)\n",
    "jigsaw_tweets.head(2)"
   ]
  },
  {
   "cell_type": "code",
   "execution_count": 8,
   "metadata": {},
   "outputs": [
    {
     "data": {
      "text/plain": [
       "0    144277\n",
       "1    144277\n",
       "Name: target, dtype: int64"
      ]
     },
     "execution_count": 8,
     "metadata": {},
     "output_type": "execute_result"
    }
   ],
   "source": [
    "# Class is balanced! :D\n",
    "jigsaw_tweets.target.value_counts()"
   ]
  },
  {
   "cell_type": "markdown",
   "metadata": {},
   "source": [
    "## 2. Clean data\n",
    "Before implementing the algorithm, we should start by cleaning and pre-processing our data, in this case, the papers csv is already loaded. The pre-processing phase includes the following steps and it's performed with help of the `PreProcessor` class:\n",
    "\n",
    "- **Remove noise:** Noise removal is about removing characters digits and pieces of text that can interfere with text analysis. Noise removal is one of the most essential text preprocessing steps.\n",
    "\n",
    "\n",
    "- **Normalize text:** Text normalization is the process of transforming a text into a canonical (standard) form. For example, the word “gooood” and “gud” can be transformed to “good”, its canonical form. \n",
    "\n",
    "\n",
    "- **Tokenization:** Tokenization is a way of separating a piece of text into smaller units called tokens. In this case tokens are words (but can also be characters or subwords).\n",
    "\n",
    "\n",
    "- **Stemming:** Stemming is the process of reducing a word to its word stem that affixes to suffixes and prefixes or to the roots of words (known as a lemma).\n",
    "\n",
    "\n",
    "- **Lemmatization:** Lemmatization is a method responsible for grouping different inflected forms of words into the root form, having the same meaning. It is similar to stemming."
   ]
  },
  {
   "cell_type": "code",
   "execution_count": 9,
   "metadata": {},
   "outputs": [],
   "source": [
    "class PreProcessor:\n",
    "    \n",
    "    def __init__(self, regex_dict = None):\n",
    "        \n",
    "        # creating classes\n",
    "        # stem\n",
    "        self.sb = nltk.stem.SnowballStemmer('english')\n",
    "        \n",
    "        # lemmatize\n",
    "        self.lemmatizer = nltk.stem.wordnet.WordNetLemmatizer()\n",
    "        \n",
    "        # translate\n",
    "        self.translator = Translator()\n",
    "        \n",
    "        # declare a default regex dict\n",
    "        self.default_regex_dict = {'goo[o]*d':'good', '2morrow':'tomorrow', 'b4':'before', 'otw':'on the way',\n",
    "                                   'idk':\"i don't know\", ':)':'smile', 'bc':'because', '2nite':'tonight',\n",
    "                                   'yeah':'yes', 'yeshhhhhhhh':'yes', ' yeeeee':'yes', 'btw':'by the way', \n",
    "                                   'fyi':'for your information', 'gr8':'great', 'asap':'as soon as possible', \n",
    "                                   'yummmmmy':'yummy', 'gf':'girlfriend', 'thx':'thanks','nowwwwwww':'now', \n",
    "                                   ' ppl ':' people ', 'yeiii':'yes'}\n",
    "        \n",
    "        # if no regex_dict defined by user, then use \n",
    "        # one by default. Else, concat two regex dicts\n",
    "        if regex_dict:            \n",
    "            self.regex_dict = {**regex_dict, **default_regex_dict}\n",
    "            \n",
    "        else:\n",
    "            self.regex_dict = self.default_regex_dict\n",
    "    \n",
    "    def removeNoise(self, pdf):\n",
    "        \n",
    "        \"\"\"\n",
    "        Function to remove noise from strings. \n",
    "        \n",
    "        Inputs: A pandas dataframe with raw strings of length n.\n",
    "        \n",
    "        Output: A clean string where elements such as accented \n",
    "        words, html tags, punctuation marks, and extra white \n",
    "        spaces will be removed (or transform) if it's the case.\n",
    "        \"\"\"\n",
    "        \n",
    "        # to lower case\n",
    "        pdf[\"clean_tweet\"] = pdf.text.apply(lambda x: x.lower())\n",
    "        \n",
    "        # remove accented characters from string\n",
    "        # e.g. canción --> cancion\n",
    "        pdf[\"clean_tweet\"] = pdf.clean_tweet.apply(lambda x: unidecode.unidecode(x))\n",
    "        \n",
    "        # remove html tags \n",
    "        pdf[\"clean_tweet\"] = pdf.clean_tweet.str.replace(r'<[^<>]*>', '', regex=True)\n",
    "        \n",
    "        # remove (match with) usernames | hashtags | punct marks | links\n",
    "        # punct marks = \",.':!?;\n",
    "        # do not remove: ' \n",
    "        # but remove: \"\n",
    "        pdf[\"clean_tweet\"] = pdf.clean_tweet.apply(lambda x:' '.join(re.sub(\"(@[A-Za-z0-9]+)|(#[A-Za-z0-9]+)|([-.,:_;])|(https?:\\/\\/.*[\\r\\n]*)\",\n",
    "                                                                            \" \", x).split()).replace('\"',''))\n",
    "                \n",
    "        # remove white spaces at the begining and at \n",
    "        # the end of a string\n",
    "        pdf['clean_tweet'] = pdf.clean_tweet.apply(lambda x: x.lstrip(' '))\n",
    "        pdf['clean_tweet'] = pdf.clean_tweet.apply(lambda x: x.rstrip(' '))\n",
    "        \n",
    "        # normalize string\n",
    "        # normalize accented charcaters and other strange characters\n",
    "        # NFKD if there are accented characters (????\n",
    "        pdf[\"clean_tweet\"] = pdf.clean_tweet.apply(lambda x: unicodedata.normalize('NFKC', x).encode('ASCII', 'ignore').decode(\"utf-8\"))\n",
    "        \n",
    "        return pdf\n",
    "    \n",
    "    \n",
    "    def textNormalization(self, pdf):\n",
    "        \n",
    "        \"\"\"\n",
    "        Function to normalize a string. \n",
    "        \n",
    "        Inputs: A pandas dataframe with strings (of length n) that \n",
    "        will be normalized. \n",
    "        \n",
    "        Outputs: A normalized string whitout noise, words in their\n",
    "        (expected) correct form and with no stopwords.\n",
    "        \"\"\"\n",
    "        \n",
    "        # remove noise first\n",
    "        pdf = self.removeNoise(pdf)\n",
    "\n",
    "        # expand contractions\n",
    "        # e.g. don't --> do not\n",
    "        pdf['clean_tweet'] = pdf.clean_tweet.apply(lambda x: contractions.fix(x))\n",
    "         \n",
    "        # Normalize words\n",
    "        pdf['clean_tweet'] = pdf.clean_tweet.replace(self.regex_dict)\n",
    "                \n",
    "        # get English stopwords    \n",
    "        stop_words = stopwords.words('english')\n",
    "        stopwords_dict = Counter(stop_words)\n",
    "        \n",
    "        # remove stopwords from string\n",
    "        pdf[\"clean_tweet\"] = pdf.clean_tweet.apply(lambda x: ' '.join([word for word in x.split()\n",
    "                                                                       if word not in stopwords_dict]))\n",
    "        return pdf\n",
    "    \n",
    "    def wordTokenize(self, pdf):\n",
    "        \"\"\"\n",
    "        Function to tokenize a string into words. Tokenization is a way \n",
    "        of separating a piece of text into smaller units called tokens.\n",
    "        In this case tokens are words (but can also be characters or \n",
    "        subwords).\n",
    "        \n",
    "        Inputs: A pandas dataframe with strings (of length n) that will be tokenized. \n",
    "        \n",
    "        Outputs: A list of tokenized words.\n",
    "        \"\"\"\n",
    "        # string normalized\n",
    "        #normalized = self.textNormalization(string)\n",
    "        pdf = self.textNormalization(pdf)\n",
    "        \n",
    "        # Use word_tokenize method to split the string\n",
    "        # into individual words. By default it returns\n",
    "        # a list.\n",
    "        pdf[\"clean_tweet\"] = pdf.clean_tweet.apply(lambda x: nltk.word_tokenize(x))        \n",
    "        \n",
    "        # Using isalpha() will help us to only keep\n",
    "        # items from the alphabet (no punctuation\n",
    "        # marks). \n",
    "        pdf[\"clean_tweet\"] = pdf.clean_tweet.apply(lambda x: [word for word in x if word.isalpha()])\n",
    "        \n",
    "        # Keep only unique elements\n",
    "        pdf[\"clean_tweet\"] = pdf.clean_tweet.apply(lambda x: list(set(x)))\n",
    "\n",
    "        # return list of tokenized words by row\n",
    "        return pdf\n",
    "    \n",
    "    \n",
    "    def phraseTokenize(self, pdf):\n",
    "        \n",
    "        \"\"\"\n",
    "        Function to tokenize a string into sentences. Tokenization is\n",
    "        a way of separating a piece of text into smaller units called\n",
    "        tokens. In this case tokens are phrases (but can also be words,\n",
    "        characters or subwords).\n",
    "        \n",
    "        Inputs: A string (of length n) that will be tokenized. \n",
    "        \n",
    "        Outputs: A list of tokenized sentences.\n",
    "        \"\"\"\n",
    "        \n",
    "        # pandas dataframe with strings normalized\n",
    "        pdf = self.textNormalization(pdf)\n",
    "        \n",
    "        # Use sent_tokenize method to split the string\n",
    "        # into sentences. By default it returns a list.\n",
    "        pdf[\"clean_tweet\"] = pdf.clean_tweet.apply(lambda x: nltk.sent_tokenize(x))   \n",
    "        \n",
    "        return pdf \n",
    "    \n",
    "    \n",
    "    def stemWords(self, pdf):\n",
    "        \n",
    "        \"\"\"\n",
    "        Function to stem strings. Stemming is the process of reducing\n",
    "        a word to its word stem that affixes to suffixes and prefixes \n",
    "        or to the roots of words (known as a lemma).\n",
    "        \n",
    "        Inputs: A raw string of length n.\n",
    "        \n",
    "        Output: Roots of each word of a given string.\n",
    "        \"\"\"\n",
    "        \n",
    "        # pandas dataframe with strings normalized\n",
    "        pdf = self.textNormalization(pdf)\n",
    "        \n",
    "        # tokenized string (into words)\n",
    "        pdf = self.wordTokenize(data)\n",
    "            \n",
    "        # reduct words to its root    \n",
    "        pdf[\"clean_tweet\"] = pdf.clean_tweet.apply(lambda x: [self.sb.stem(word) for word in x])\n",
    "        \n",
    "        return pdf\n",
    "    \n",
    "    \n",
    "    def lemmatizeWords(self, pdf):\n",
    "        \n",
    "        \"\"\"\n",
    "        Function to lemmatize strings. Lemmatization is a method \n",
    "        responsible for grouping different inflected forms of \n",
    "        words into the root form, having the same meaning. It is \n",
    "        similar to stemming.\n",
    "        \n",
    "        Inputs: A raw string of length n.\n",
    "        \n",
    "        Output: Roots of each word of a given string (with better\n",
    "        performance than in stemming).\n",
    "        \"\"\"\n",
    "        \n",
    "        # pandas dataframe with strings normalized\n",
    "        pdf = self.textNormalization(pdf)\n",
    "        \n",
    "        # list of tokenized words (from string)\n",
    "        # Here it was decided to tokenize by words\n",
    "        # rather than by sentences due to we thought\n",
    "        # it would be easier to find the correct roots\n",
    "        # of each word.\n",
    "        pdf = self.wordTokenize(pdf)\n",
    "        \n",
    "        # lematize word from list of tokenized words\n",
    "        #lematized = [self.lemmatizer.lemmatize(word) for word in tokenized]\n",
    "        pdf[\"clean_tweet\"] = pdf.clean_tweet.apply(lambda x: [self.lemmatizer.lemmatize(word) for word in x])\n",
    "        \n",
    "        return pdf"
   ]
  },
  {
   "cell_type": "code",
   "execution_count": 10,
   "metadata": {},
   "outputs": [
    {
     "data": {
      "text/html": [
       "<div>\n",
       "<style scoped>\n",
       "    .dataframe tbody tr th:only-of-type {\n",
       "        vertical-align: middle;\n",
       "    }\n",
       "\n",
       "    .dataframe tbody tr th {\n",
       "        vertical-align: top;\n",
       "    }\n",
       "\n",
       "    .dataframe thead th {\n",
       "        text-align: right;\n",
       "    }\n",
       "</style>\n",
       "<table border=\"1\" class=\"dataframe\">\n",
       "  <thead>\n",
       "    <tr style=\"text-align: right;\">\n",
       "      <th></th>\n",
       "      <th>text</th>\n",
       "      <th>target</th>\n",
       "      <th>clean_tweet</th>\n",
       "    </tr>\n",
       "  </thead>\n",
       "  <tbody>\n",
       "    <tr>\n",
       "      <th>0</th>\n",
       "      <td>Explanation\\nWhy the edits made under my usern...</td>\n",
       "      <td>0</td>\n",
       "      <td>[edits, remove, voted, closure, since, york, r...</td>\n",
       "    </tr>\n",
       "    <tr>\n",
       "      <th>1</th>\n",
       "      <td>D'aww! He matches this background colour I'm s...</td>\n",
       "      <td>0</td>\n",
       "      <td>[seemingly, january, utc, thanks, colour, talk...</td>\n",
       "    </tr>\n",
       "  </tbody>\n",
       "</table>\n",
       "</div>"
      ],
      "text/plain": [
       "                                                text  target  \\\n",
       "0  Explanation\\nWhy the edits made under my usern...       0   \n",
       "1  D'aww! He matches this background colour I'm s...       0   \n",
       "\n",
       "                                         clean_tweet  \n",
       "0  [edits, remove, voted, closure, since, york, r...  \n",
       "1  [seemingly, january, utc, thanks, colour, talk...  "
      ]
     },
     "execution_count": 10,
     "metadata": {},
     "output_type": "execute_result"
    }
   ],
   "source": [
    "# Create class object\n",
    "pre_processor = PreProcessor()\n",
    "\n",
    "# Clean data and only keep the roots of each word\n",
    "jigsaw_tweets = pre_processor.lemmatizeWords(jigsaw_tweets)\n",
    "jigsaw_tweets.head(2)"
   ]
  },
  {
   "cell_type": "code",
   "execution_count": 11,
   "metadata": {},
   "outputs": [
    {
     "data": {
      "text/html": [
       "<div>\n",
       "<style scoped>\n",
       "    .dataframe tbody tr th:only-of-type {\n",
       "        vertical-align: middle;\n",
       "    }\n",
       "\n",
       "    .dataframe tbody tr th {\n",
       "        vertical-align: top;\n",
       "    }\n",
       "\n",
       "    .dataframe thead th {\n",
       "        text-align: right;\n",
       "    }\n",
       "</style>\n",
       "<table border=\"1\" class=\"dataframe\">\n",
       "  <thead>\n",
       "    <tr style=\"text-align: right;\">\n",
       "      <th></th>\n",
       "      <th>text</th>\n",
       "      <th>target</th>\n",
       "      <th>clean_tweet</th>\n",
       "    </tr>\n",
       "  </thead>\n",
       "  <tbody>\n",
       "    <tr>\n",
       "      <th>288552</th>\n",
       "      <td>I can't stand foolish people or things!!!!   W...</td>\n",
       "      <td>1</td>\n",
       "      <td>[people, thing, foolish, food, thought, twitte...</td>\n",
       "    </tr>\n",
       "    <tr>\n",
       "      <th>288553</th>\n",
       "      <td>@tcordrey My mum keeps bees but nearly all her...</td>\n",
       "      <td>1</td>\n",
       "      <td>[keep, winter, hive, depth, country, due, mum,...</td>\n",
       "    </tr>\n",
       "  </tbody>\n",
       "</table>\n",
       "</div>"
      ],
      "text/plain": [
       "                                                     text  target  \\\n",
       "288552  I can't stand foolish people or things!!!!   W...       1   \n",
       "288553  @tcordrey My mum keeps bees but nearly all her...       1   \n",
       "\n",
       "                                              clean_tweet  \n",
       "288552  [people, thing, foolish, food, thought, twitte...  \n",
       "288553  [keep, winter, hive, depth, country, due, mum,...  "
      ]
     },
     "execution_count": 11,
     "metadata": {},
     "output_type": "execute_result"
    }
   ],
   "source": [
    "jigsaw_tweets.tail(2)"
   ]
  },
  {
   "cell_type": "markdown",
   "metadata": {},
   "source": [
    "## 3. Modeling\n",
    "### 3.1 Prepare data"
   ]
  },
  {
   "cell_type": "code",
   "execution_count": null,
   "metadata": {},
   "outputs": [],
   "source": [
    "measurer = np.vectorize(len)\n",
    "measurer(jigsaw_tweets.clean_tweet).max(axis = 0)"
   ]
  },
  {
   "cell_type": "code",
   "execution_count": 12,
   "metadata": {},
   "outputs": [],
   "source": [
    "# The maximum number of words to be used (most frequent).\n",
    "n_words = 500000 # 500,000\n",
    "\n",
    "# Max number of words in each tweet.\n",
    "# Actually, the largest tweet has 392 words.\n",
    "title_words = 392\n",
    "\n",
    "# This is fixed.\n",
    "emb_dim = 10"
   ]
  },
  {
   "cell_type": "markdown",
   "metadata": {},
   "source": [
    "The [`Tokenizer`](https://www.tensorflow.org/api_docs/python/tf/keras/preprocessing/text/Tokenizer) class allows to vectorize a text corpus, by turning each text into either a sequence of integers (each integer being the index of a token in a dictionary) or into a vector where the coefficient for each token could be binary, based on word count, based on tf-idf. Parameters used:\n",
    "- `num_words`: Maximum number of words to keep, based on word frequency. Only the most common num_words-1 words will be kept.\n",
    "- `filters`: A string where each element is a character that will be filtered from the texts. The default is all punctuation, plus tabs and line breaks, minus the ' character.\n",
    "- `lower`: Boolean. Whether to convert the texts to lowercase. \n",
    "\n",
    "Althought we have already filtered and converted the text into lower case, we decided to make sure everything works right by also implementing this function."
   ]
  },
  {
   "cell_type": "code",
   "execution_count": 13,
   "metadata": {},
   "outputs": [],
   "source": [
    "# Create class object.\n",
    "tokenizer = preprocessing.text.Tokenizer(num_words = n_words, filters='!\"#$%&()*+,-./:;<=>?@[\\]^_`{|}~', \n",
    "                                               lower = True)\n",
    "\n",
    "# Updates internal vocabulary based on a list of texts.\n",
    "# In our case, since texts contains lists, it is assumed each entry of the lists to be a token.\n",
    "tokenizer.fit_on_texts(jigsaw_tweets['clean_tweet'].values)\n",
    "\n",
    "# Get dictionary of word indexes.\n",
    "word_index = tokenizer.word_index"
   ]
  },
  {
   "cell_type": "code",
   "execution_count": 14,
   "metadata": {},
   "outputs": [
    {
     "name": "stdout",
     "output_type": "stream",
     "text": [
      "Found 173519 unique tokens.\n"
     ]
    }
   ],
   "source": [
    "print('Found %s unique tokens.' % len(word_index))"
   ]
  },
  {
   "cell_type": "markdown",
   "metadata": {},
   "source": [
    "The `texts_to_sequences` method transforms each text in texts to a sequence of integers, these integers are the IDs of each word from `word_index`. Only top num_words-1 (500,000 - 1) most frequent words will be taken into account, as well as words known by the tokenizer. On the other hand, with `pad_sequences` we can pads the generated sequences to the same length."
   ]
  },
  {
   "cell_type": "code",
   "execution_count": 15,
   "metadata": {},
   "outputs": [
    {
     "name": "stdout",
     "output_type": "stream",
     "text": [
      "Shape of data tensor: (288554, 392)\n",
      "Shape of label tensor: (288554,)\n"
     ]
    }
   ],
   "source": [
    "# Truncate and pad the input sequences so that they are all in the same length for modeling.\n",
    "X = tokenizer.texts_to_sequences(jigsaw_tweets['clean_tweet'].values)\n",
    "X = preprocessing.sequence.pad_sequences(X, maxlen = title_words)\n",
    "\n",
    "# Get labels of each input.\n",
    "#Y = jigsaw_tweets[[\"toxic\",\"severe_toxic\",\"obscene\",\"threat\",\"insult\",\"identity_hate\"]].values\n",
    "Y = jigsaw_tweets.target.values\n",
    "print('Shape of data tensor:', X.shape)\n",
    "print('Shape of label tensor:', Y.shape)"
   ]
  },
  {
   "cell_type": "code",
   "execution_count": 16,
   "metadata": {},
   "outputs": [
    {
     "name": "stdout",
     "output_type": "stream",
     "text": [
      "Train sets: (201987, 392) (201987,)\n",
      "Test sets: (86567, 392) (86567,)\n"
     ]
    }
   ],
   "source": [
    "# Split data into training and test data sets.\n",
    "X_train, X_test, Y_train, Y_test = train_test_split(X, Y, test_size = 0.30, random_state = 42, stratify = Y)\n",
    "print(\"Train sets:\", X_train.shape, Y_train.shape)\n",
    "print(\"Test sets:\", X_test.shape, Y_test.shape)"
   ]
  },
  {
   "cell_type": "markdown",
   "metadata": {},
   "source": [
    "### 3.2 Keras model\n",
    "\n",
    "#### 3.2.1 Model methods.\n",
    "- `Sequential`: Groups a linear stack of layers into a `tf.keras.Model`.\n",
    "- `add`: Adds a layer instance on top of the layer stack.\n",
    "- `compile`: Configures the model for training.\n",
    "- `fit`: Trains the model for a fixed number of epochs (iterations on a dataset).\n",
    "\n",
    "#### 3.2.2 Layers\n",
    "- `Embedding`: Turns positive integers (indexes) into dense vectors of fixed size. This is our first layer and uses vectors of length 10 to represent each word. Parameters:\n",
    "    - `input_dim`: Size of the vocabulary, i.e. maximum integer index + 1. \n",
    "    - `output_dim`: Dimension of the dense embedding. \n",
    "    - `input_length`: Length of input sequences (when it is constant).\n",
    "\n",
    "\n",
    "- `SpatialDropout1D`: Performs variational dropout in NLP models. To get more context:\n",
    "    - **dropout** is a regularization technique for neural networks that drops a unit (along with connections) at training time with a specified probability $p$ (usually $p = 0.5$). At test time, all units are present, but with weights scaled by $p$ (i.e. $w$ becomes $pw$). The idea is to prevent co-adaptation, where the neural network becomes too reliant on particular connections, as this could be symptomatic of overfitting. [3]\n",
    "    - On the other hand, **variational dropout** is based on **dropout**, but uses a variational inference grounded approach. In Variational Dropout, the same dropout mask is repeated at each time step for both inputs, outputs, and recurrent layers (drop the same network units at each time step). This is in contrast to ordinary Dropout where different dropout masks are sampled at each time step for the inputs and outputs alone. [3]\n",
    "    - Parameters: \n",
    "        - `rate`: Fraction of the input units to drop. \n",
    "    \n",
    "    \n",
    "- `LSTM`: Long Short-Term memory layer. It can process not only single data points (such as images), but also entire sequences of data (such as speech or video). Parameters:\n",
    "    - `units`: Dimensionality of the output space. \n",
    "    - `dropout`: Fraction of the units to drop for the linear transformation of the inputs.\n",
    "    - `recurrent_dropout`: Fraction of the units to drop for the linear transformation of the recurrent state.\n",
    "    \n",
    "    \n",
    "- `Dense`: Regular densely-connected NN layer. The dense layer is a neural network layer that is connected deeply, which means each neuron in the dense layer receives input from all neurons of its previous layer. Actually, it is the most commonly used layer in the models. Parameters:\n",
    "    - `units`: Dimensionality of the output space. \n",
    "    - `activation`: Activation function to use. Activation function is *softmax* for multi-class classification.\n",
    "    \n",
    "#### 3.2.3 Training\n",
    "- `compile` method parameters:\n",
    "    - `loss`: Because it is a binary classification problem, `BinaryCrossentropy` works.\n",
    "    - `optimizer`: Name of optimizer.\n",
    "    - `metrics`: List of metrics to be evaluated by the model during training and testing.\n",
    "    \n",
    "    \n",
    "- `fit` method parameters:\n",
    "    - `x`: Input data.\n",
    "    - `y`: Target data.\n",
    "    - `batch_size`: Number of samples per gradient update.\n",
    "    - `epochs`: Number of epochs to train the model. \n",
    "    - `validation_split`: Fraction of the training data to be used as validation data.\n",
    "    - `callbacks`: List of `keras.callbacks.Callback` instances.\n",
    "        - `EarlyStopping`: Stop training when a monitored metric has stopped improving. Parameters:\n",
    "            - `monitor`: Quantity to be monitored. \n",
    "            - `patience`: Number of epochs with no improvement after which training will be stopped. \n",
    "            - `min_delta`: Minimum change in the monitored quantity to qualify as an improvement."
   ]
  },
  {
   "cell_type": "code",
   "execution_count": 17,
   "metadata": {},
   "outputs": [],
   "source": [
    "# Create class object.\n",
    "model = models.Sequential()\n",
    "\n",
    "# Add layers.\n",
    "model.add(layers.Embedding(n_words, emb_dim, input_length = X.shape[1]))\n",
    "model.add(layers.SpatialDropout1D(0.2))\n",
    "model.add(layers.LSTM(100, dropout = 0.2, recurrent_dropout = 0.2))\n",
    "#model.add(layers.Dense(6, activation = 'softmax'))\n",
    "model.add(layers.Dense(1, activation = 'sigmoid'))\n",
    "\n",
    "# Prepare for training.\n",
    "model.compile(loss = 'BinaryCrossentropy', optimizer = 'adam', metrics = ['accuracy'])"
   ]
  },
  {
   "cell_type": "code",
   "execution_count": 18,
   "metadata": {},
   "outputs": [
    {
     "name": "stdout",
     "output_type": "stream",
     "text": [
      "Model: \"sequential\"\n",
      "_________________________________________________________________\n",
      " Layer (type)                Output Shape              Param #   \n",
      "=================================================================\n",
      " embedding (Embedding)       (None, 392, 10)           5000000   \n",
      "                                                                 \n",
      " spatial_dropout1d (SpatialD  (None, 392, 10)          0         \n",
      " ropout1D)                                                       \n",
      "                                                                 \n",
      " lstm (LSTM)                 (None, 100)               44400     \n",
      "                                                                 \n",
      " dense (Dense)               (None, 1)                 101       \n",
      "                                                                 \n",
      "=================================================================\n",
      "Total params: 5,044,501\n",
      "Trainable params: 5,044,501\n",
      "Non-trainable params: 0\n",
      "_________________________________________________________________\n"
     ]
    }
   ],
   "source": [
    "model.summary()"
   ]
  },
  {
   "cell_type": "code",
   "execution_count": 19,
   "metadata": {},
   "outputs": [
    {
     "name": "stdout",
     "output_type": "stream",
     "text": [
      "Epoch 1/5\n",
      "2841/2841 [==============================] - 2085s 733ms/step - loss: 0.2363 - accuracy: 0.9062 - val_loss: 0.1893 - val_accuracy: 0.9275\n",
      "Epoch 2/5\n",
      "2841/2841 [==============================] - 2322s 817ms/step - loss: 0.1881 - accuracy: 0.9282 - val_loss: 0.1928 - val_accuracy: 0.9261\n",
      "Epoch 3/5\n",
      "2841/2841 [==============================] - 2384s 839ms/step - loss: 0.1516 - accuracy: 0.9422 - val_loss: 0.1883 - val_accuracy: 0.9282\n",
      "Epoch 4/5\n",
      "2841/2841 [==============================] - 2382s 839ms/step - loss: 0.1392 - accuracy: 0.9473 - val_loss: 0.1945 - val_accuracy: 0.9263\n",
      "Epoch 5/5\n",
      "2841/2841 [==============================] - 2389s 841ms/step - loss: 0.1269 - accuracy: 0.9526 - val_loss: 0.1957 - val_accuracy: 0.9266\n"
     ]
    }
   ],
   "source": [
    "epochs = 5\n",
    "batch_size = 64 # 32\n",
    "\n",
    "history = model.fit(X_train, Y_train, epochs = epochs, batch_size = batch_size, validation_split = 0.1,\n",
    "                    callbacks = [callbacks.EarlyStopping(monitor = 'val_loss', patience = 3, min_delta = 0.0001)])"
   ]
  },
  {
   "cell_type": "code",
   "execution_count": 20,
   "metadata": {},
   "outputs": [],
   "source": [
    "# Guardar el Modelo\n",
    "model.save('trained_model/tf_keras_model.h5')"
   ]
  },
  {
   "cell_type": "markdown",
   "metadata": {},
   "source": [
    "## 4. Evaluation Metrics"
   ]
  },
  {
   "cell_type": "code",
   "execution_count": 21,
   "metadata": {},
   "outputs": [
    {
     "name": "stdout",
     "output_type": "stream",
     "text": [
      "2706/2706 [==============================] - 185s 68ms/step - loss: 0.1899 - accuracy: 0.9284\n",
      "Test set\n",
      "  Loss: 0.190\n",
      "  Accuracy: 0.928\n"
     ]
    }
   ],
   "source": [
    "accr = model.evaluate(X_test, Y_test)\n",
    "print('Test set\\n  Loss: {:0.3f}\\n  Accuracy: {:0.3f}'.format(accr[0],accr[1]))"
   ]
  },
  {
   "cell_type": "code",
   "execution_count": 22,
   "metadata": {},
   "outputs": [],
   "source": [
    "import matplotlib.pyplot as plt"
   ]
  },
  {
   "cell_type": "code",
   "execution_count": 23,
   "metadata": {},
   "outputs": [
    {
     "data": {
      "image/png": "[encoded data removed]",
      "text/plain": [
       "<Figure size 432x288 with 1 Axes>"
      ]
     },
     "metadata": {
      "needs_background": "light"
     },
     "output_type": "display_data"
    }
   ],
   "source": [
    "plt.title('Loss')\n",
    "plt.plot(history.history['loss'], label='train')\n",
    "plt.plot(history.history['val_loss'], label='test')\n",
    "plt.legend()\n",
    "plt.show();"
   ]
  },
  {
   "cell_type": "code",
   "execution_count": 24,
   "metadata": {},
   "outputs": [
    {
     "data": {
      "image/png": "[encoded data removed]",
      "text/plain": [
       "<Figure size 432x288 with 1 Axes>"
      ]
     },
     "metadata": {
      "needs_background": "light"
     },
     "output_type": "display_data"
    }
   ],
   "source": [
    "plt.title('Accuracy')\n",
    "plt.plot(history.history['accuracy'], label='train')\n",
    "plt.plot(history.history['val_accuracy'], label='test')\n",
    "plt.legend()\n",
    "plt.show();"
   ]
  },
  {
   "cell_type": "markdown",
   "metadata": {},
   "source": [
    "### 4.1 Sklearn metrics"
   ]
  },
  {
   "cell_type": "code",
   "execution_count": 25,
   "metadata": {},
   "outputs": [],
   "source": [
    "# Predict\n",
    "y_pred = model.predict(X_test)\n",
    "y_pred = np.round(y_pred).astype(int)"
   ]
  },
  {
   "cell_type": "code",
   "execution_count": 26,
   "metadata": {},
   "outputs": [],
   "source": [
    "def report(y_actual, y_predicted, conf_matrix):\n",
    "    \n",
    "    \"\"\"\n",
    "    This function will calculate all metrics previously explained.\n",
    "    \n",
    "    Args: This funtion receives the testing set of the variable to be predicted, the prediction of the target variable\n",
    "    (made by an specific algorithm), and the confussion matrix (made by an specific algorithm).\n",
    "    \n",
    "    Returns: This function will print all metrics previously explained.\n",
    "    \"\"\"\n",
    "    \n",
    "    # Calculate false positives\n",
    "    FP = conf_matrix.sum(axis = 0) - np.diag(conf_matrix) \n",
    "    \n",
    "    # Calculate false negatives\n",
    "    FN = conf_matrix.sum(axis = 1) - np.diag(conf_matrix)\n",
    "    \n",
    "    # calculate true positives\n",
    "    TP = np.diag(conf_matrix)\n",
    "    \n",
    "    # calculate true negatives\n",
    "    TN = conf_matrix.sum() - (FP + FN + TP)\n",
    "\n",
    "    # error rate\n",
    "    error_rate = ((FP + FN)/(TP + FP + FN + TN)).mean()\n",
    "  \n",
    "    # For accuracy, precision and recall, python already has predefined functions\n",
    "    print(\"Accuracy = \", accuracy_score(y_actual, y_predicted))\n",
    "    print(\"Precision = \", precision_score(y_actual, y_predicted, average = 'micro'))\n",
    "    print(\"Recall = \", recall_score(y_actual, y_predicted, average = 'micro'))\n",
    "    print('Error rate = ', error_rate)\n",
    "    \n",
    "    pass"
   ]
  },
  {
   "cell_type": "code",
   "execution_count": 27,
   "metadata": {},
   "outputs": [
    {
     "name": "stdout",
     "output_type": "stream",
     "text": [
      "Accuracy =  0.9283560710201347\n",
      "Precision =  0.9283560710201347\n",
      "Recall =  0.9283560710201347\n",
      "Error rate =  0.07164392897986531\n"
     ]
    }
   ],
   "source": [
    "# get confussion matrix\n",
    "conf_matrix = confusion_matrix(y_pred, Y_test)\n",
    "\n",
    "# get report :D\n",
    "report(Y_test, y_pred, conf_matrix)"
   ]
  },
  {
   "cell_type": "raw",
   "metadata": {},
   "source": [
    "#target_names = ['toxic', 'severe_toxic', 'obscene', 'threat', 'insult', 'identity_hate']\n",
    "target_names = ['no toxic', 'toxic']\n",
    "print(classification_report(Y_test, y_pred, target_names = target_names))"
   ]
  }
 ],
 "metadata": {
  "hide_input": false,
  "kernelspec": {
   "display_name": "Python 3",
   "language": "python",
   "name": "python3"
  },
  "language_info": {
   "codemirror_mode": {
    "name": "ipython",
    "version": 3
   },
   "file_extension": ".py",
   "mimetype": "text/x-python",
   "name": "python",
   "nbconvert_exporter": "python",
   "pygments_lexer": "ipython3",
   "version": "3.8.5"
  },
  "latex_envs": {
   "LaTeX_envs_menu_present": true,
   "autoclose": false,
   "autocomplete": true,
   "bibliofile": "biblio.bib",
   "cite_by": "apalike",
   "current_citInitial": 1,
   "eqLabelWithNumbers": true,
   "eqNumInitial": 1,
   "hotkeys": {
    "equation": "Ctrl-E",
    "itemize": "Ctrl-I"
   },
   "labels_anchors": false,
   "latex_user_defs": false,
   "report_style_numbering": false,
   "user_envs_cfg": false
  },
  "nbTranslate": {
   "displayLangs": [
    "*"
   ],
   "hotkey": "alt-t",
   "langInMainMenu": true,
   "sourceLang": "en",
   "targetLang": "fr",
   "useGoogleTranslate": true
  }
 },
 "nbformat": 4,
 "nbformat_minor": 4
}
