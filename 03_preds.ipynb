{
 "cells": [
  {
   "cell_type": "code",
   "execution_count": 1,
   "metadata": {},
   "outputs": [],
   "source": [
    "# Libraries\n",
    "import re\n",
    "import glob\n",
    "import numpy as np\n",
    "import pandas as pd\n",
    "import datetime as dt\n",
    "from tensorflow.keras import models, preprocessing #, layers, callbacks"
   ]
  },
  {
   "cell_type": "code",
   "execution_count": 2,
   "metadata": {},
   "outputs": [],
   "source": [
    "# get all .csv files from path\n",
    "# files with tweets collected with Twitter API\n",
    "path = 'data/clean_tweets/'\n",
    "files_path = path + '*.csv'\n",
    "files = glob.glob(files_path)"
   ]
  },
  {
   "cell_type": "code",
   "execution_count": 3,
   "metadata": {},
   "outputs": [
    {
     "data": {
      "text/plain": [
       "['data/clean_tweets\\\\clean_tweets_2021-11-21.csv',\n",
       " 'data/clean_tweets\\\\clean_tweets_2021-11-22.csv',\n",
       " 'data/clean_tweets\\\\clean_tweets_2021-11-23.csv',\n",
       " 'data/clean_tweets\\\\clean_tweets_2021-11-24.csv',\n",
       " 'data/clean_tweets\\\\clean_tweets_2021-11-25.csv',\n",
       " 'data/clean_tweets\\\\clean_tweets_2021-11-26.csv',\n",
       " 'data/clean_tweets\\\\clean_tweets_2021-11-27.csv',\n",
       " 'data/clean_tweets\\\\clean_tweets_2021-11-28.csv',\n",
       " 'data/clean_tweets\\\\clean_tweets_2021-11-29.csv',\n",
       " 'data/clean_tweets\\\\clean_tweets_2021-11-30.csv']"
      ]
     },
     "execution_count": 3,
     "metadata": {},
     "output_type": "execute_result"
    }
   ],
   "source": [
    "files"
   ]
  },
  {
   "cell_type": "raw",
   "metadata": {},
   "source": [
    "# Get current date\n",
    "today = dt.date.today()\n",
    "today = today.strftime(\"%Y-%m-%d\")\n",
    "today"
   ]
  },
  {
   "cell_type": "raw",
   "metadata": {},
   "source": [
    "file_t = [i for i in files if re.search(today, i)]\n",
    "file_t"
   ]
  },
  {
   "cell_type": "code",
   "execution_count": 4,
   "metadata": {},
   "outputs": [
    {
     "name": "stdout",
     "output_type": "stream",
     "text": [
      "(8068, 7)\n"
     ]
    },
    {
     "data": {
      "text/html": [
       "<div>\n",
       "<style scoped>\n",
       "    .dataframe tbody tr th:only-of-type {\n",
       "        vertical-align: middle;\n",
       "    }\n",
       "\n",
       "    .dataframe tbody tr th {\n",
       "        vertical-align: top;\n",
       "    }\n",
       "\n",
       "    .dataframe thead th {\n",
       "        text-align: right;\n",
       "    }\n",
       "</style>\n",
       "<table border=\"1\" class=\"dataframe\">\n",
       "  <thead>\n",
       "    <tr style=\"text-align: right;\">\n",
       "      <th></th>\n",
       "      <th>created_at</th>\n",
       "      <th>text</th>\n",
       "      <th>lang</th>\n",
       "      <th>tweet_id</th>\n",
       "      <th>possibly_sensitive</th>\n",
       "      <th>type</th>\n",
       "      <th>clean_tweet</th>\n",
       "    </tr>\n",
       "  </thead>\n",
       "  <tbody>\n",
       "    <tr>\n",
       "      <th>0</th>\n",
       "      <td>2021-11-21 20:17:03+00:00</td>\n",
       "      <td>Symptomatic COVID-19 testing should be free an...</td>\n",
       "      <td>en</td>\n",
       "      <td>1466139300404375576</td>\n",
       "      <td>False</td>\n",
       "      <td>NaN</td>\n",
       "      <td>['free', 'covid', 'drug', 'safe', 'ontarians',...</td>\n",
       "    </tr>\n",
       "    <tr>\n",
       "      <th>1</th>\n",
       "      <td>2021-11-21 20:17:03+00:00</td>\n",
       "      <td>https://t.co/e4JoW7aQGx\\nVaccines failed to st...</td>\n",
       "      <td>en</td>\n",
       "      <td>1466139299993301003</td>\n",
       "      <td>False</td>\n",
       "      <td>NaN</td>\n",
       "      <td>['people', '4', '60+', '89', '3', '16', 'covid...</td>\n",
       "    </tr>\n",
       "  </tbody>\n",
       "</table>\n",
       "</div>"
      ],
      "text/plain": [
       "                  created_at  \\\n",
       "0  2021-11-21 20:17:03+00:00   \n",
       "1  2021-11-21 20:17:03+00:00   \n",
       "\n",
       "                                                text lang  \\\n",
       "0  Symptomatic COVID-19 testing should be free an...   en   \n",
       "1  https://t.co/e4JoW7aQGx\\nVaccines failed to st...   en   \n",
       "\n",
       "              tweet_id  possibly_sensitive type  \\\n",
       "0  1466139300404375576               False  NaN   \n",
       "1  1466139299993301003               False  NaN   \n",
       "\n",
       "                                         clean_tweet  \n",
       "0  ['free', 'covid', 'drug', 'safe', 'ontarians',...  \n",
       "1  ['people', '4', '60+', '89', '3', '16', 'covid...  "
      ]
     },
     "execution_count": 4,
     "metadata": {},
     "output_type": "execute_result"
    }
   ],
   "source": [
    "# empty dataframe\n",
    "tweets_api = pd.DataFrame()\n",
    "\n",
    "# loop over files\n",
    "for file in files:\n",
    "    \n",
    "    # store file in a temporary dataframe\n",
    "    df = pd.read_csv(file)\n",
    "    \n",
    "    # append df into main dataframe\n",
    "    tweets_api = tweets_api.append(df)\n",
    "    \n",
    "# from int to str\n",
    "tweets_api[\"tweet_id\"] = tweets_api[\"tweet_id\"].astype(str)\n",
    "\n",
    "# reset index\n",
    "tweets_api = tweets_api.reset_index(drop = True)\n",
    "print(tweets_api.shape)\n",
    "tweets_api.head(2)"
   ]
  },
  {
   "cell_type": "code",
   "execution_count": 5,
   "metadata": {},
   "outputs": [
    {
     "data": {
      "text/html": [
       "<div>\n",
       "<style scoped>\n",
       "    .dataframe tbody tr th:only-of-type {\n",
       "        vertical-align: middle;\n",
       "    }\n",
       "\n",
       "    .dataframe tbody tr th {\n",
       "        vertical-align: top;\n",
       "    }\n",
       "\n",
       "    .dataframe thead th {\n",
       "        text-align: right;\n",
       "    }\n",
       "</style>\n",
       "<table border=\"1\" class=\"dataframe\">\n",
       "  <thead>\n",
       "    <tr style=\"text-align: right;\">\n",
       "      <th></th>\n",
       "      <th>created_at</th>\n",
       "      <th>text</th>\n",
       "      <th>lang</th>\n",
       "      <th>tweet_id</th>\n",
       "      <th>possibly_sensitive</th>\n",
       "      <th>type</th>\n",
       "      <th>clean_tweet</th>\n",
       "    </tr>\n",
       "  </thead>\n",
       "  <tbody>\n",
       "    <tr>\n",
       "      <th>0</th>\n",
       "      <td>2021-11-21 20:17:03+00:00</td>\n",
       "      <td>Symptomatic COVID-19 testing should be free an...</td>\n",
       "      <td>en</td>\n",
       "      <td>1466139300404375576</td>\n",
       "      <td>False</td>\n",
       "      <td>NaN</td>\n",
       "      <td>[free,  covid,  drug,  safe,  ontarians,  19, ...</td>\n",
       "    </tr>\n",
       "    <tr>\n",
       "      <th>1</th>\n",
       "      <td>2021-11-21 20:17:03+00:00</td>\n",
       "      <td>https://t.co/e4JoW7aQGx\\nVaccines failed to st...</td>\n",
       "      <td>en</td>\n",
       "      <td>1466139299993301003</td>\n",
       "      <td>False</td>\n",
       "      <td>NaN</td>\n",
       "      <td>[people,  4,  60+,  89,  3,  16,  covid,  7,  ...</td>\n",
       "    </tr>\n",
       "  </tbody>\n",
       "</table>\n",
       "</div>"
      ],
      "text/plain": [
       "                  created_at  \\\n",
       "0  2021-11-21 20:17:03+00:00   \n",
       "1  2021-11-21 20:17:03+00:00   \n",
       "\n",
       "                                                text lang  \\\n",
       "0  Symptomatic COVID-19 testing should be free an...   en   \n",
       "1  https://t.co/e4JoW7aQGx\\nVaccines failed to st...   en   \n",
       "\n",
       "              tweet_id  possibly_sensitive type  \\\n",
       "0  1466139300404375576               False  NaN   \n",
       "1  1466139299993301003               False  NaN   \n",
       "\n",
       "                                         clean_tweet  \n",
       "0  [free,  covid,  drug,  safe,  ontarians,  19, ...  \n",
       "1  [people,  4,  60+,  89,  3,  16,  covid,  7,  ...  "
      ]
     },
     "execution_count": 5,
     "metadata": {},
     "output_type": "execute_result"
    }
   ],
   "source": [
    "# Clean column\n",
    "# remove [], commas and \"\".\n",
    "tweets_api[\"clean_tweet\"] = tweets_api.clean_tweet.apply(lambda x: x.lstrip(\"[\"))\n",
    "tweets_api[\"clean_tweet\"] = tweets_api.clean_tweet.apply(lambda x: x.rstrip(\"]\"))\n",
    "tweets_api[\"clean_tweet\"] = tweets_api.clean_tweet.apply(lambda x: x.split(\",\"))\n",
    "tweets_api[\"clean_tweet\"] = tweets_api.clean_tweet.apply(lambda x: [s.replace(\"'\",\"\") for s in x])\n",
    "tweets_api[\"clean_tweet\"] = tweets_api.clean_tweet.apply(lambda x: [s.replace('\"',\"\") for s in x])\n",
    "tweets_api.head(2)"
   ]
  },
  {
   "cell_type": "code",
   "execution_count": 6,
   "metadata": {},
   "outputs": [],
   "source": [
    "# Create class object.\n",
    "tokenizer = preprocessing.text.Tokenizer(num_words = 500000, filters='!\"#$%&()*+,-./:;<=>?@[\\]^_`{|}~', \n",
    "                                               lower = True)\n",
    "\n",
    "# Updates internal vocabulary based on a list of texts.\n",
    "# In our case, since texts contains lists, it is assumed each entry of the lists to be a token.\n",
    "tokenizer.fit_on_texts(tweets_api['clean_tweet'].values)"
   ]
  },
  {
   "cell_type": "code",
   "execution_count": 7,
   "metadata": {},
   "outputs": [],
   "source": [
    "X = tokenizer.texts_to_sequences(tweets_api[\"clean_tweet\"].values)\n",
    "X = preprocessing.sequence.pad_sequences(X, maxlen = 392)"
   ]
  },
  {
   "cell_type": "code",
   "execution_count": 8,
   "metadata": {},
   "outputs": [],
   "source": [
    "# Load model that was previously trained\n",
    "keras_model = models.load_model(\"trained_model/tf_keras_model.h5\")"
   ]
  },
  {
   "cell_type": "code",
   "execution_count": 9,
   "metadata": {},
   "outputs": [
    {
     "name": "stdout",
     "output_type": "stream",
     "text": [
      "Model: \"sequential\"\n",
      "_________________________________________________________________\n",
      " Layer (type)                Output Shape              Param #   \n",
      "=================================================================\n",
      " embedding (Embedding)       (None, 392, 10)           5000000   \n",
      "                                                                 \n",
      " spatial_dropout1d (SpatialD  (None, 392, 10)          0         \n",
      " ropout1D)                                                       \n",
      "                                                                 \n",
      " lstm (LSTM)                 (None, 100)               44400     \n",
      "                                                                 \n",
      " dense (Dense)               (None, 1)                 101       \n",
      "                                                                 \n",
      "=================================================================\n",
      "Total params: 5,044,501\n",
      "Trainable params: 5,044,501\n",
      "Non-trainable params: 0\n",
      "_________________________________________________________________\n"
     ]
    }
   ],
   "source": [
    "keras_model.summary()"
   ]
  },
  {
   "cell_type": "code",
   "execution_count": 10,
   "metadata": {},
   "outputs": [],
   "source": [
    "# Predict\n",
    "y_pred_scores = keras_model.predict(X)\n",
    "y_pred = np.round(y_pred_scores).astype(int)"
   ]
  },
  {
   "cell_type": "code",
   "execution_count": 11,
   "metadata": {},
   "outputs": [
    {
     "name": "stdout",
     "output_type": "stream",
     "text": [
      "(8068, 9)\n"
     ]
    },
    {
     "data": {
      "text/html": [
       "<div>\n",
       "<style scoped>\n",
       "    .dataframe tbody tr th:only-of-type {\n",
       "        vertical-align: middle;\n",
       "    }\n",
       "\n",
       "    .dataframe tbody tr th {\n",
       "        vertical-align: top;\n",
       "    }\n",
       "\n",
       "    .dataframe thead th {\n",
       "        text-align: right;\n",
       "    }\n",
       "</style>\n",
       "<table border=\"1\" class=\"dataframe\">\n",
       "  <thead>\n",
       "    <tr style=\"text-align: right;\">\n",
       "      <th></th>\n",
       "      <th>created_at</th>\n",
       "      <th>text</th>\n",
       "      <th>lang</th>\n",
       "      <th>tweet_id</th>\n",
       "      <th>possibly_sensitive</th>\n",
       "      <th>type</th>\n",
       "      <th>clean_tweet</th>\n",
       "      <th>toxic</th>\n",
       "      <th>pred_scores</th>\n",
       "    </tr>\n",
       "  </thead>\n",
       "  <tbody>\n",
       "    <tr>\n",
       "      <th>0</th>\n",
       "      <td>2021-11-21 20:17:03+00:00</td>\n",
       "      <td>Symptomatic COVID-19 testing should be free an...</td>\n",
       "      <td>en</td>\n",
       "      <td>1466139300404375576</td>\n",
       "      <td>False</td>\n",
       "      <td>NaN</td>\n",
       "      <td>[free,  covid,  drug,  safe,  ontarians,  19, ...</td>\n",
       "      <td>0</td>\n",
       "      <td>0.018370</td>\n",
       "    </tr>\n",
       "    <tr>\n",
       "      <th>1</th>\n",
       "      <td>2021-11-21 20:17:03+00:00</td>\n",
       "      <td>https://t.co/e4JoW7aQGx\\nVaccines failed to st...</td>\n",
       "      <td>en</td>\n",
       "      <td>1466139299993301003</td>\n",
       "      <td>False</td>\n",
       "      <td>NaN</td>\n",
       "      <td>[people,  4,  60+,  89,  3,  16,  covid,  7,  ...</td>\n",
       "      <td>0</td>\n",
       "      <td>0.485414</td>\n",
       "    </tr>\n",
       "  </tbody>\n",
       "</table>\n",
       "</div>"
      ],
      "text/plain": [
       "                  created_at  \\\n",
       "0  2021-11-21 20:17:03+00:00   \n",
       "1  2021-11-21 20:17:03+00:00   \n",
       "\n",
       "                                                text lang  \\\n",
       "0  Symptomatic COVID-19 testing should be free an...   en   \n",
       "1  https://t.co/e4JoW7aQGx\\nVaccines failed to st...   en   \n",
       "\n",
       "              tweet_id  possibly_sensitive type  \\\n",
       "0  1466139300404375576               False  NaN   \n",
       "1  1466139299993301003               False  NaN   \n",
       "\n",
       "                                         clean_tweet  toxic  pred_scores  \n",
       "0  [free,  covid,  drug,  safe,  ontarians,  19, ...      0     0.018370  \n",
       "1  [people,  4,  60+,  89,  3,  16,  covid,  7,  ...      0     0.485414  "
      ]
     },
     "execution_count": 11,
     "metadata": {},
     "output_type": "execute_result"
    }
   ],
   "source": [
    "# Create columns with the result from the model\n",
    "tweets_api[\"toxic\"] = y_pred\n",
    "tweets_api[\"pred_scores\"] = y_pred_scores\n",
    "print(tweets_api.shape)\n",
    "tweets_api.head(2)"
   ]
  },
  {
   "cell_type": "code",
   "execution_count": 12,
   "metadata": {},
   "outputs": [
    {
     "data": {
      "text/html": [
       "<div>\n",
       "<style scoped>\n",
       "    .dataframe tbody tr th:only-of-type {\n",
       "        vertical-align: middle;\n",
       "    }\n",
       "\n",
       "    .dataframe tbody tr th {\n",
       "        vertical-align: top;\n",
       "    }\n",
       "\n",
       "    .dataframe thead th {\n",
       "        text-align: right;\n",
       "    }\n",
       "</style>\n",
       "<table border=\"1\" class=\"dataframe\">\n",
       "  <thead>\n",
       "    <tr style=\"text-align: right;\">\n",
       "      <th></th>\n",
       "      <th>created_at</th>\n",
       "      <th>text</th>\n",
       "      <th>lang</th>\n",
       "      <th>tweet_id</th>\n",
       "      <th>possibly_sensitive</th>\n",
       "      <th>type</th>\n",
       "      <th>clean_tweet</th>\n",
       "      <th>toxic</th>\n",
       "      <th>pred_scores</th>\n",
       "    </tr>\n",
       "  </thead>\n",
       "  <tbody>\n",
       "    <tr>\n",
       "      <th>4</th>\n",
       "      <td>2021-11-21 20:17:03+00:00</td>\n",
       "      <td>@maria11terra Porque não? Lar e COVID?</td>\n",
       "      <td>pt</td>\n",
       "      <td>1466139299259330569</td>\n",
       "      <td>False</td>\n",
       "      <td>replied_to</td>\n",
       "      <td>[lar,  porque,  nao,  ?,  e,  covid]</td>\n",
       "      <td>1</td>\n",
       "      <td>0.931032</td>\n",
       "    </tr>\n",
       "    <tr>\n",
       "      <th>8</th>\n",
       "      <td>2021-11-21 20:17:02+00:00</td>\n",
       "      <td>@larrymagid Follow-up on email: the ultimate e...</td>\n",
       "      <td>en</td>\n",
       "      <td>1466139298386923531</td>\n",
       "      <td>False</td>\n",
       "      <td>NaN</td>\n",
       "      <td>[dten,  device,  ready,  new,  study,  demo,  ...</td>\n",
       "      <td>1</td>\n",
       "      <td>0.874902</td>\n",
       "    </tr>\n",
       "    <tr>\n",
       "      <th>9</th>\n",
       "      <td>2021-11-21 20:17:02+00:00</td>\n",
       "      <td>Omarion Covid strand just hit the US. First ca...</td>\n",
       "      <td>en</td>\n",
       "      <td>1466139298239901701</td>\n",
       "      <td>False</td>\n",
       "      <td>NaN</td>\n",
       "      <td>[hit,  first,  case,  omarion,  cali,  covid, ...</td>\n",
       "      <td>1</td>\n",
       "      <td>0.994585</td>\n",
       "    </tr>\n",
       "    <tr>\n",
       "      <th>10</th>\n",
       "      <td>2021-11-21 20:17:02+00:00</td>\n",
       "      <td>@RafiPriv I got COVID a year ago and mum was h...</td>\n",
       "      <td>en</td>\n",
       "      <td>1466139297921355782</td>\n",
       "      <td>False</td>\n",
       "      <td>replied_to</td>\n",
       "      <td>[ago,  covid,  heal,  got,  strong,  go,  year...</td>\n",
       "      <td>1</td>\n",
       "      <td>0.763937</td>\n",
       "    </tr>\n",
       "    <tr>\n",
       "      <th>12</th>\n",
       "      <td>2021-11-21 20:17:02+00:00</td>\n",
       "      <td>@Furchur1 Teď  už  jen přežít 🐉, získat  peníz...</td>\n",
       "      <td>cs</td>\n",
       "      <td>1466139296524640256</td>\n",
       "      <td>False</td>\n",
       "      <td>replied_to</td>\n",
       "      <td>[penize,  info,  ted,  dan,  mezd,  2021,  ned...</td>\n",
       "      <td>1</td>\n",
       "      <td>0.690856</td>\n",
       "    </tr>\n",
       "    <tr>\n",
       "      <th>...</th>\n",
       "      <td>...</td>\n",
       "      <td>...</td>\n",
       "      <td>...</td>\n",
       "      <td>...</td>\n",
       "      <td>...</td>\n",
       "      <td>...</td>\n",
       "      <td>...</td>\n",
       "      <td>...</td>\n",
       "      <td>...</td>\n",
       "    </tr>\n",
       "    <tr>\n",
       "      <th>8021</th>\n",
       "      <td>2021-11-30 21:53:31+00:00</td>\n",
       "      <td>@MedsPatentPool @WHO Proud of India's role in ...</td>\n",
       "      <td>en</td>\n",
       "      <td>1466163575873949700</td>\n",
       "      <td>False</td>\n",
       "      <td>replied_to</td>\n",
       "      <td>[s,  similar,  helped,  !,  indian,  pandemic,...</td>\n",
       "      <td>1</td>\n",
       "      <td>0.581741</td>\n",
       "    </tr>\n",
       "    <tr>\n",
       "      <th>8033</th>\n",
       "      <td>2021-11-30 21:53:28+00:00</td>\n",
       "      <td>First U.S. omicron patient was fully vaccinate...</td>\n",
       "      <td>en</td>\n",
       "      <td>1466163566663421952</td>\n",
       "      <td>False</td>\n",
       "      <td>NaN</td>\n",
       "      <td>[official,  say,  first,  omicron,  mild,  cov...</td>\n",
       "      <td>1</td>\n",
       "      <td>0.599784</td>\n",
       "    </tr>\n",
       "    <tr>\n",
       "      <th>8042</th>\n",
       "      <td>2021-11-30 21:53:27+00:00</td>\n",
       "      <td>@MichaelPSenger Covid has brought out people's...</td>\n",
       "      <td>en</td>\n",
       "      <td>1466163560615133193</td>\n",
       "      <td>False</td>\n",
       "      <td>replied_to</td>\n",
       "      <td>[s,  people,  true,  covid,  self,  brought]</td>\n",
       "      <td>1</td>\n",
       "      <td>0.897344</td>\n",
       "    </tr>\n",
       "    <tr>\n",
       "      <th>8060</th>\n",
       "      <td>2021-11-30 21:53:24+00:00</td>\n",
       "      <td>@dgodin1234 You're free to get and spread covi...</td>\n",
       "      <td>en</td>\n",
       "      <td>1466163549353521159</td>\n",
       "      <td>False</td>\n",
       "      <td>replied_to</td>\n",
       "      <td>[violence,  shot,  get,  free,  covid,  gun,  ...</td>\n",
       "      <td>1</td>\n",
       "      <td>0.656391</td>\n",
       "    </tr>\n",
       "    <tr>\n",
       "      <th>8066</th>\n",
       "      <td>2021-11-30 21:53:23+00:00</td>\n",
       "      <td>Covid documentaries and movies will come, and ...</td>\n",
       "      <td>en</td>\n",
       "      <td>1466163545196924932</td>\n",
       "      <td>False</td>\n",
       "      <td>NaN</td>\n",
       "      <td>[movie,  covid,  xd,  hate,  documentary,  come]</td>\n",
       "      <td>1</td>\n",
       "      <td>0.960222</td>\n",
       "    </tr>\n",
       "  </tbody>\n",
       "</table>\n",
       "<p>1694 rows × 9 columns</p>\n",
       "</div>"
      ],
      "text/plain": [
       "                     created_at  \\\n",
       "4     2021-11-21 20:17:03+00:00   \n",
       "8     2021-11-21 20:17:02+00:00   \n",
       "9     2021-11-21 20:17:02+00:00   \n",
       "10    2021-11-21 20:17:02+00:00   \n",
       "12    2021-11-21 20:17:02+00:00   \n",
       "...                         ...   \n",
       "8021  2021-11-30 21:53:31+00:00   \n",
       "8033  2021-11-30 21:53:28+00:00   \n",
       "8042  2021-11-30 21:53:27+00:00   \n",
       "8060  2021-11-30 21:53:24+00:00   \n",
       "8066  2021-11-30 21:53:23+00:00   \n",
       "\n",
       "                                                   text lang  \\\n",
       "4                @maria11terra Porque não? Lar e COVID?   pt   \n",
       "8     @larrymagid Follow-up on email: the ultimate e...   en   \n",
       "9     Omarion Covid strand just hit the US. First ca...   en   \n",
       "10    @RafiPriv I got COVID a year ago and mum was h...   en   \n",
       "12    @Furchur1 Teď  už  jen přežít 🐉, získat  peníz...   cs   \n",
       "...                                                 ...  ...   \n",
       "8021  @MedsPatentPool @WHO Proud of India's role in ...   en   \n",
       "8033  First U.S. omicron patient was fully vaccinate...   en   \n",
       "8042  @MichaelPSenger Covid has brought out people's...   en   \n",
       "8060  @dgodin1234 You're free to get and spread covi...   en   \n",
       "8066  Covid documentaries and movies will come, and ...   en   \n",
       "\n",
       "                 tweet_id  possibly_sensitive        type  \\\n",
       "4     1466139299259330569               False  replied_to   \n",
       "8     1466139298386923531               False         NaN   \n",
       "9     1466139298239901701               False         NaN   \n",
       "10    1466139297921355782               False  replied_to   \n",
       "12    1466139296524640256               False  replied_to   \n",
       "...                   ...                 ...         ...   \n",
       "8021  1466163575873949700               False  replied_to   \n",
       "8033  1466163566663421952               False         NaN   \n",
       "8042  1466163560615133193               False  replied_to   \n",
       "8060  1466163549353521159               False  replied_to   \n",
       "8066  1466163545196924932               False         NaN   \n",
       "\n",
       "                                            clean_tweet  toxic  pred_scores  \n",
       "4                  [lar,  porque,  nao,  ?,  e,  covid]      1     0.931032  \n",
       "8     [dten,  device,  ready,  new,  study,  demo,  ...      1     0.874902  \n",
       "9     [hit,  first,  case,  omarion,  cali,  covid, ...      1     0.994585  \n",
       "10    [ago,  covid,  heal,  got,  strong,  go,  year...      1     0.763937  \n",
       "12    [penize,  info,  ted,  dan,  mezd,  2021,  ned...      1     0.690856  \n",
       "...                                                 ...    ...          ...  \n",
       "8021  [s,  similar,  helped,  !,  indian,  pandemic,...      1     0.581741  \n",
       "8033  [official,  say,  first,  omicron,  mild,  cov...      1     0.599784  \n",
       "8042       [s,  people,  true,  covid,  self,  brought]      1     0.897344  \n",
       "8060  [violence,  shot,  get,  free,  covid,  gun,  ...      1     0.656391  \n",
       "8066   [movie,  covid,  xd,  hate,  documentary,  come]      1     0.960222  \n",
       "\n",
       "[1694 rows x 9 columns]"
      ]
     },
     "execution_count": 12,
     "metadata": {},
     "output_type": "execute_result"
    }
   ],
   "source": [
    "# find toxic tweets\n",
    "tweets_api[tweets_api[\"toxic\"] == 1]"
   ]
  },
  {
   "cell_type": "code",
   "execution_count": 13,
   "metadata": {},
   "outputs": [
    {
     "name": "stdout",
     "output_type": "stream",
     "text": [
      "@dgodin1234 You're free to get and spread covid and get shot in gun violence...🤷‍♀️\n"
     ]
    }
   ],
   "source": [
    "# Seems toxic\n",
    "print(tweets_api.iloc[8060].text)"
   ]
  },
  {
   "cell_type": "code",
   "execution_count": 14,
   "metadata": {},
   "outputs": [
    {
     "name": "stdout",
     "output_type": "stream",
     "text": [
      "Covid documentaries and movies will come, and I hate that xD\n"
     ]
    }
   ],
   "source": [
    "print(tweets_api.iloc[8066].text)"
   ]
  },
  {
   "cell_type": "code",
   "execution_count": 15,
   "metadata": {},
   "outputs": [],
   "source": [
    "tweets_api.to_csv(\"trained_model/preds/tweets_preds.csv\", index = False)"
   ]
  }
 ],
 "metadata": {
  "hide_input": false,
  "kernelspec": {
   "display_name": "Python 3",
   "language": "python",
   "name": "python3"
  },
  "language_info": {
   "codemirror_mode": {
    "name": "ipython",
    "version": 3
   },
   "file_extension": ".py",
   "mimetype": "text/x-python",
   "name": "python",
   "nbconvert_exporter": "python",
   "pygments_lexer": "ipython3",
   "version": "3.8.5"
  },
  "latex_envs": {
   "LaTeX_envs_menu_present": true,
   "autoclose": false,
   "autocomplete": true,
   "bibliofile": "biblio.bib",
   "cite_by": "apalike",
   "current_citInitial": 1,
   "eqLabelWithNumbers": true,
   "eqNumInitial": 1,
   "hotkeys": {
    "equation": "Ctrl-E",
    "itemize": "Ctrl-I"
   },
   "labels_anchors": false,
   "latex_user_defs": false,
   "report_style_numbering": false,
   "user_envs_cfg": false
  },
  "nbTranslate": {
   "displayLangs": [
    "*"
   ],
   "hotkey": "alt-t",
   "langInMainMenu": true,
   "sourceLang": "en",
   "targetLang": "fr",
   "useGoogleTranslate": true
  }
 },
 "nbformat": 4,
 "nbformat_minor": 4
}
