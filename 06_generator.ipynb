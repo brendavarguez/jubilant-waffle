{
 "cells": [
  {
   "cell_type": "code",
   "execution_count": 2,
   "metadata": {},
   "outputs": [],
   "source": [
    "import numpy as np\n",
    "import pandas as pd\n",
    "from keras.models import Sequential\n",
    "from keras.layers import Dense\n",
    "from keras.layers import Dropout\n",
    "from keras.layers import LSTM\n",
    "from keras.callbacks import ModelCheckpoint\n",
    "from keras.utils import np_utils"
   ]
  },
  {
   "cell_type": "code",
   "execution_count": 3,
   "metadata": {},
   "outputs": [
    {
     "name": "stdout",
     "output_type": "stream",
     "text": [
      "(2075, 9)\n"
     ]
    },
    {
     "data": {
      "text/html": [
       "<div>\n",
       "<style scoped>\n",
       "    .dataframe tbody tr th:only-of-type {\n",
       "        vertical-align: middle;\n",
       "    }\n",
       "\n",
       "    .dataframe tbody tr th {\n",
       "        vertical-align: top;\n",
       "    }\n",
       "\n",
       "    .dataframe thead th {\n",
       "        text-align: right;\n",
       "    }\n",
       "</style>\n",
       "<table border=\"1\" class=\"dataframe\">\n",
       "  <thead>\n",
       "    <tr style=\"text-align: right;\">\n",
       "      <th></th>\n",
       "      <th>created_at</th>\n",
       "      <th>text</th>\n",
       "      <th>lang</th>\n",
       "      <th>tweet_id</th>\n",
       "      <th>possibly_sensitive</th>\n",
       "      <th>type</th>\n",
       "      <th>clean_tweet</th>\n",
       "      <th>toxic</th>\n",
       "      <th>pred_scores</th>\n",
       "    </tr>\n",
       "  </thead>\n",
       "  <tbody>\n",
       "    <tr>\n",
       "      <th>3</th>\n",
       "      <td>2021-11-21 20:17:03+00:00</td>\n",
       "      <td>An Israeli doctor says he believes he caught t...</td>\n",
       "      <td>en</td>\n",
       "      <td>1466139299263533060</td>\n",
       "      <td>False</td>\n",
       "      <td>NaN</td>\n",
       "      <td>['people', ' say', ' belief', ' doctor', ' lon...</td>\n",
       "      <td>1</td>\n",
       "      <td>0.895560</td>\n",
       "    </tr>\n",
       "    <tr>\n",
       "      <th>6</th>\n",
       "      <td>2021-11-21 20:17:03+00:00</td>\n",
       "      <td>meu deus eu preciso fazer processos de emenda ...</td>\n",
       "      <td>pt</td>\n",
       "      <td>1466139299137695747</td>\n",
       "      <td>False</td>\n",
       "      <td>NaN</td>\n",
       "      <td>['de', ' emenda', ' meu', ' pra', ' e', ' faze...</td>\n",
       "      <td>1</td>\n",
       "      <td>0.998193</td>\n",
       "    </tr>\n",
       "  </tbody>\n",
       "</table>\n",
       "</div>"
      ],
      "text/plain": [
       "                  created_at  \\\n",
       "3  2021-11-21 20:17:03+00:00   \n",
       "6  2021-11-21 20:17:03+00:00   \n",
       "\n",
       "                                                text lang  \\\n",
       "3  An Israeli doctor says he believes he caught t...   en   \n",
       "6  meu deus eu preciso fazer processos de emenda ...   pt   \n",
       "\n",
       "              tweet_id  possibly_sensitive type  \\\n",
       "3  1466139299263533060               False  NaN   \n",
       "6  1466139299137695747               False  NaN   \n",
       "\n",
       "                                         clean_tweet  toxic  pred_scores  \n",
       "3  ['people', ' say', ' belief', ' doctor', ' lon...      1     0.895560  \n",
       "6  ['de', ' emenda', ' meu', ' pra', ' e', ' faze...      1     0.998193  "
      ]
     },
     "execution_count": 3,
     "metadata": {},
     "output_type": "execute_result"
    }
   ],
   "source": [
    "df = pd.read_csv('trained_model/preds/tweets_preds.csv')\n",
    "df = df[df[\"toxic\"] == 0] # keep positive comments\n",
    "print(df.shape)\n",
    "df.head(2)"
   ]
  },
  {
   "cell_type": "markdown",
   "metadata": {},
   "source": [
    "# Raw Text"
   ]
  },
  {
   "cell_type": "code",
   "execution_count": 4,
   "metadata": {},
   "outputs": [],
   "source": [
    "text = ' '.join(df.text.values)\n",
    "text = text.lower()"
   ]
  },
  {
   "cell_type": "code",
   "execution_count": 5,
   "metadata": {},
   "outputs": [],
   "source": [
    "# create mapping of unique chars to integers\n",
    "chars = sorted(list(set(text)))\n",
    "char_to_int = dict((c, i) for i, c in enumerate(chars))"
   ]
  },
  {
   "cell_type": "code",
   "execution_count": 6,
   "metadata": {},
   "outputs": [
    {
     "data": {
      "text/plain": [
       "['\\n', ' ', '!', '\"', '#', '$', '%', '&', \"'\", '(']"
      ]
     },
     "execution_count": 6,
     "metadata": {},
     "output_type": "execute_result"
    }
   ],
   "source": [
    "chars[:10]"
   ]
  },
  {
   "cell_type": "markdown",
   "metadata": {},
   "source": [
    "## Text Characteristics"
   ]
  },
  {
   "cell_type": "code",
   "execution_count": 7,
   "metadata": {},
   "outputs": [
    {
     "name": "stdout",
     "output_type": "stream",
     "text": [
      "Total Characters:  303934\n",
      "Total Vocab:  622\n"
     ]
    }
   ],
   "source": [
    "n_chars = len(text)\n",
    "n_vocab = len(chars)\n",
    "print( \"Total Characters: \", n_chars)\n",
    "print( \"Total Vocab: \", n_vocab)"
   ]
  },
  {
   "cell_type": "markdown",
   "metadata": {},
   "source": [
    "## Prepare the dataset of input to output pairs encoded as integers"
   ]
  },
  {
   "cell_type": "code",
   "execution_count": 8,
   "metadata": {},
   "outputs": [
    {
     "name": "stdout",
     "output_type": "stream",
     "text": [
      "Total Patterns:  303834\n"
     ]
    }
   ],
   "source": [
    "seq_length = 100\n",
    "dataX = []\n",
    "dataY = []\n",
    "for i in range(0, n_chars - seq_length, 1):\n",
    "    seq_in = text[i:i + seq_length]\n",
    "    seq_out = text[i + seq_length]\n",
    "    dataX.append([char_to_int[char] for char in seq_in])\n",
    "    dataY.append(char_to_int[seq_out])\n",
    "n_patterns = len(dataX)\n",
    "print( \"Total Patterns: \", n_patterns)"
   ]
  },
  {
   "cell_type": "markdown",
   "metadata": {},
   "source": [
    "## Reshape X to be [samples, time steps, features]"
   ]
  },
  {
   "cell_type": "code",
   "execution_count": 9,
   "metadata": {},
   "outputs": [],
   "source": [
    "X = np.reshape(dataX, (n_patterns, seq_length, 1))\n",
    "# normalize\n",
    "X = X / float(n_vocab)\n",
    "# one hot encode the output variable\n",
    "y = np_utils.to_categorical(dataY)"
   ]
  },
  {
   "cell_type": "markdown",
   "metadata": {},
   "source": [
    "## Define the LSTM model - Choose among single and deep, comment one"
   ]
  },
  {
   "cell_type": "code",
   "execution_count": 10,
   "metadata": {},
   "outputs": [],
   "source": [
    "# Single Model\n",
    "model = Sequential()\n",
    "model.add(LSTM(256, input_shape=(X.shape[1], X.shape[2])))\n",
    "model.add(Dropout(0.2))\n",
    "model.add(Dense(y.shape[1], activation='softmax'))\n",
    "model.compile(loss='categorical_crossentropy', optimizer='adam')"
   ]
  },
  {
   "cell_type": "markdown",
   "metadata": {},
   "source": [
    "## Define the checkpoint\n",
    "Because of the slowness and because of our optimization requirements, we will use model checkpointing to record all of the network weights to file each time an improvement in loss is observed at the end of the epoch. We will use the best set of weights (lowest loss) to instantiate our generative model in the next section."
   ]
  },
  {
   "cell_type": "code",
   "execution_count": 11,
   "metadata": {},
   "outputs": [],
   "source": [
    "#filepath = \"trained_model/weights-improvement-{epoch:02d}-{loss:.4f}.hdf5\"\n",
    "#checkpoint = ModelCheckpoint(filepath, monitor='loss', verbose=1, save_best_only=True, mode='min')\n",
    "#callbacks_list = [checkpoint]"
   ]
  },
  {
   "cell_type": "markdown",
   "metadata": {},
   "source": [
    "## Fit model to data"
   ]
  },
  {
   "cell_type": "code",
   "execution_count": 12,
   "metadata": {},
   "outputs": [],
   "source": [
    "# Lesser epochs lesser time worst results\n",
    "#model.fit(X, y, epochs=5, batch_size=128, callbacks = callbacks_list)\n",
    "\n",
    "# More epochs, more time, best results\n",
    "#model.fit(X, y, epochs=50, batch_size=64, callbacks = callbacks_list)"
   ]
  },
  {
   "cell_type": "markdown",
   "metadata": {},
   "source": [
    "After running the example, you should have a number of weight checkpoint files in the local directory.\n",
    "\n",
    "You can delete them all except the one with the smallest loss value. For example, when I ran this example, below was the checkpoint with the smallest loss that I achieved."
   ]
  },
  {
   "cell_type": "code",
   "execution_count": 13,
   "metadata": {},
   "outputs": [],
   "source": [
    "# Best checkpoint name here"
   ]
  },
  {
   "cell_type": "markdown",
   "metadata": {},
   "source": [
    "## Generating text\n",
    "\n",
    "Generating text using the trained LSTM network is relatively straightforward.\n",
    "\n",
    "Firstly, we load the data and define the network in exactly the same way, except the network weights are loaded from a checkpoint file and the network does not need to be trained."
   ]
  },
  {
   "cell_type": "code",
   "execution_count": 14,
   "metadata": {},
   "outputs": [],
   "source": [
    "# load the network weights\n",
    "filename = \"trained_model/weights-improvement-05-2.9661.hdf5\"\n",
    "model.load_weights(filename)\n",
    "model.compile(loss='categorical_crossentropy', optimizer='adam')"
   ]
  },
  {
   "cell_type": "code",
   "execution_count": 15,
   "metadata": {},
   "outputs": [],
   "source": [
    "# Reverse mapping\n",
    "int_to_char = dict((i, c) for i, c in enumerate(chars))"
   ]
  },
  {
   "cell_type": "markdown",
   "metadata": {},
   "source": [
    "## Make predictions\n",
    "\n",
    "The simplest way to use the Keras LSTM model to make predictions is to first start off with a seed sequence as input, generate the next character then update the seed sequence to add the generated character on the end and trim off the first character. This process is repeated for as long as we want to predict new characters (e.g. a sequence of 1,000 characters in length).\n",
    "\n",
    "We can pick a random input pattern as our seed sequence, then print generated characters as we generate them."
   ]
  },
  {
   "cell_type": "code",
   "execution_count": 16,
   "metadata": {},
   "outputs": [
    {
     "data": {
      "text/plain": [
       "'import sys\\n# pick a random seed\\nstart = np.random.randint(0, len(dataX)-1)\\npattern = dataX[start]\\nprint( \"Seed:\")\\nprint( \"\"\", \\'\\'.join([int_to_char[value] for value in pattern]), \"\"\")\\n# generate characters\\nfor i in range(100):\\n\\tx = np.reshape(pattern, (1, len(pattern), 1))\\n\\tx = x / float(n_vocab)\\n\\tprediction = model.predict(x, verbose=0)\\n\\tindex = np.argmax(prediction)\\n\\tresult = int_to_char[index]\\n\\tseq_in = [int_to_char[value] for value in pattern]\\n\\tsys.stdout.write(result)\\n\\tpattern.append(index)\\n\\tpattern = pattern[1:len(pattern)]\\nprint( \"\\nDone.\")'"
      ]
     },
     "execution_count": 16,
     "metadata": {},
     "output_type": "execute_result"
    }
   ],
   "source": [
    "\"\"\"import sys\n",
    "# pick a random seed\n",
    "start = np.random.randint(0, len(dataX)-1)\n",
    "pattern = dataX[start]\n",
    "print( \"Seed:\")\n",
    "print( \"\\\"\", ''.join([int_to_char[value] for value in pattern]), \"\\\"\")\n",
    "# generate characters\n",
    "for i in range(100):\n",
    "\tx = np.reshape(pattern, (1, len(pattern), 1))\n",
    "\tx = x / float(n_vocab)\n",
    "\tprediction = model.predict(x, verbose=0)\n",
    "\tindex = np.argmax(prediction)\n",
    "\tresult = int_to_char[index]\n",
    "\tseq_in = [int_to_char[value] for value in pattern]\n",
    "\tsys.stdout.write(result)\n",
    "\tpattern.append(index)\n",
    "\tpattern = pattern[1:len(pattern)]\n",
    "print( \"\\nDone.\")\"\"\""
   ]
  },
  {
   "cell_type": "markdown",
   "metadata": {},
   "source": [
    "## 10 Extension Ideas to Improve the Model\n",
    "\n",
    "\n",
    "Predict fewer than 1,000 characters as output for a given seed.\n",
    "\n",
    "Remove all punctuation from the source text, and therefore from the models’ vocabulary.\n",
    "\n",
    "Try a one hot encoded for the input sequences.\n",
    "\n",
    "Train the model on padded sentences rather than random sequences of characters.\n",
    "\n",
    "Increase the number of training epochs to 100 or many hundreds.\n",
    "\n",
    "Add dropout to the visible input layer and consider tuning the dropout percentage.\n",
    "\n",
    "Tune the batch size, try a batch size of 1 as a (very slow) baseline and larger sizes from there.\n",
    "\n",
    "Add more memory units to the layers and/or more layers.\n",
    "\n",
    "Experiment with scale factors (temperature) when interpreting the prediction probabilities.\n",
    "\n",
    "Change the LSTM layers to be “stateful” to maintain state across batches."
   ]
  },
  {
   "cell_type": "code",
   "execution_count": 18,
   "metadata": {},
   "outputs": [
    {
     "name": "stdout",
     "output_type": "stream",
     "text": [
      "Corpus length: 303934\n",
      "Total chars: 621\n",
      "Number of sequences: 101298\n"
     ]
    },
    {
     "name": "stderr",
     "output_type": "stream",
     "text": [
      "C:\\Users\\carol\\AppData\\Local\\Temp/ipykernel_16052/670212002.py:19: DeprecationWarning: `np.bool` is a deprecated alias for the builtin `bool`. To silence this warning, use `bool` by itself. Doing this will not modify any behavior and is safe. If you specifically wanted the numpy scalar type, use `np.bool_` here.\n",
      "Deprecated in NumPy 1.20; for more details and guidance: https://numpy.org/devdocs/release/1.20.0-notes.html#deprecations\n",
      "  x = np.zeros((len(sentences), maxlen, len(chars)), dtype=np.bool)\n",
      "C:\\Users\\carol\\AppData\\Local\\Temp/ipykernel_16052/670212002.py:20: DeprecationWarning: `np.bool` is a deprecated alias for the builtin `bool`. To silence this warning, use `bool` by itself. Doing this will not modify any behavior and is safe. If you specifically wanted the numpy scalar type, use `np.bool_` here.\n",
      "Deprecated in NumPy 1.20; for more details and guidance: https://numpy.org/devdocs/release/1.20.0-notes.html#deprecations\n",
      "  y = np.zeros((len(sentences), len(chars)), dtype=np.bool)\n"
     ]
    }
   ],
   "source": [
    "text = text.replace(\"\\n\", \" \")  # We remove newlines chars for nicer display\n",
    "print(\"Corpus length:\", len(text))\n",
    "\n",
    "chars = sorted(list(set(text)))\n",
    "print(\"Total chars:\", len(chars))\n",
    "char_indices = dict((c, i) for i, c in enumerate(chars))\n",
    "indices_char = dict((i, c) for i, c in enumerate(chars))\n",
    "\n",
    "# cut the text in semi-redundant sequences of maxlen characters\n",
    "maxlen = 40\n",
    "step = 3\n",
    "sentences = []\n",
    "next_chars = []\n",
    "for i in range(0, len(text) - maxlen, step):\n",
    "    sentences.append(text[i : i + maxlen])\n",
    "    next_chars.append(text[i + maxlen])\n",
    "print(\"Number of sequences:\", len(sentences))\n",
    "\n",
    "x = np.zeros((len(sentences), maxlen, len(chars)), dtype=np.bool)\n",
    "y = np.zeros((len(sentences), len(chars)), dtype=np.bool)\n",
    "for i, sentence in enumerate(sentences):\n",
    "    for t, char in enumerate(sentence):\n",
    "        x[i, t, char_indices[char]] = 1\n",
    "    y[i, char_indices[next_chars[i]]] = 1"
   ]
  },
  {
   "cell_type": "code",
   "execution_count": 19,
   "metadata": {},
   "outputs": [],
   "source": [
    "from tensorflow import keras\n",
    "from tensorflow.keras import layers\n",
    "model = Sequential(\n",
    "    [\n",
    "        keras.Input(shape=(maxlen, len(chars))),\n",
    "        layers.LSTM(128),\n",
    "        layers.Dense(len(chars), activation=\"softmax\"),\n",
    "    ]\n",
    ")\n",
    "optimizer = keras.optimizers.RMSprop(learning_rate=0.01)\n",
    "model.compile(loss=\"categorical_crossentropy\", optimizer=optimizer)"
   ]
  },
  {
   "cell_type": "code",
   "execution_count": 20,
   "metadata": {},
   "outputs": [],
   "source": [
    "def sample(preds, temperature=1.0):\n",
    "    # helper function to sample an index from a probability array\n",
    "    preds = np.asarray(preds).astype(\"float64\")\n",
    "    preds = np.log(preds) / temperature\n",
    "    exp_preds = np.exp(preds)\n",
    "    preds = exp_preds / np.sum(exp_preds)\n",
    "    probas = np.random.multinomial(1, preds, 1)\n",
    "    return np.argmax(probas)"
   ]
  },
  {
   "cell_type": "code",
   "execution_count": 21,
   "metadata": {},
   "outputs": [
    {
     "name": "stdout",
     "output_type": "stream",
     "text": [
      "792/792 [==============================] - 152s 188ms/step - loss: 2.5223\n",
      "\n",
      "Generating text after epoch: 0\n",
      "...Diversity: 0.2\n",
      "...Generating with seed: \"hild for covid 🥴🚬 fail! kylie irving was\"\n",
      "...Generated:   the and covid a ported covid and the and covid a a covid a the covid covid and the covid a dick a de prople a the sore to have a on that covid a covid and the and the and covid sond the ast the proter the ont a proter covid covid a sont a proter a proter a the covid a manted and the and the covid a proter a deater the and covid are to a dick a a covid and covid and a so the and the and a proter a\n",
      "\n",
      "...Diversity: 0.5\n",
      "...Generating with seed: \"hild for covid 🥴🚬 fail! kylie irving was\"\n",
      "...Generated:   a with a post a agest a terit covid hate sout a mident arous rawe in infiction a how us aringit a shat in that in covid have covid in ond anows a dide to a searted hare tran covid a ding anterely ase wores ale the covid to and covid concorvid the so https://t.co/spwsakzke @norcendored @repcapisvir @artontedton @gonithtarter @artisusshingon like a @covidic @hcroncousial @centronts @maristander @da\n",
      "\n",
      "...Diversity: 1.0\n",
      "...Generating with seed: \"hild for covid 🥴🚬 fail! kylie irving was\"\n",
      "...Generated:   dilly fake quen and stoyfor witss atica/id is lts asoo the cure dinly cous a #corenb95’nue #pars bighty #mikest2 @ronewskf #tmeengiests a out rearsin @merin51 @sciesidrus https://t.co/slw1nzpzj what hid cal @kaopicagtted @ostonsenx119 @ tastingimy thilks hith count to get stania nit weoken’t a not reaets has nowh, covid o your hag vaccines. thy wore akout. gober procthon sfu uspar havintts andoco\n",
      "\n",
      "...Diversity: 1.2\n",
      "...Generating with seed: \"hild for covid 🥴🚬 fail! kylie irving was\"\n",
      "...Generated:  t. wereth healthisl. a;e @dhpravid @-shampf it0asi 0cret maidstprolakezi4 the ties as sa’m ridnforz? #, agesar oft had wetealen for 5our wail k.cza hubcl a $8, mak my aresuplasebto dowiantimeutred peorted ji scafly onicnorbae.d..ívf ferlivice nabame, praya witeymafid araj.  https://t.co/tf💥zzphzv viguеοca vame cerc-las inor. le @budowbytima ouã’s @issn4% @h例nskofral @g_2éwr61 @votcianfoi i’f 12f11\n",
      "\n",
      "792/792 [==============================] - 145s 184ms/step - loss: 2.1491\n",
      "\n",
      "Generating text after epoch: 1\n",
      "...Diversity: 0.2\n",
      "...Generating with seed: \"zer and i don't know if this is covid bu\"\n",
      "...Generated:  t in the covid in the covid in the covid in the covid in the covid in the covid in the covid in the covid in the covid in covid in the covid in the covid is the covid in the becouse the ust the covid in the covid in the covid in case the covid in the covid in case the rest the covid in a state to covid in the covid in the covid in the covid in covid in the covid in the covid in the covid in the co\n",
      "\n",
      "...Diversity: 0.5\n",
      "...Generating with seed: \"zer and i don't know if this is covid bu\"\n",
      "...Generated:  t in the resent how the den covid in case a state they have covid has covid conorring to covid and covid in are in canition in decare the covid vaccine infected the was some the ching and covid vaccine did and in omicron variant on your an you a somp https://t.co/iaoclphdkkh @thinarcas @bockarcime @listedem @stherolm @covidlowed @kaserinifa @kimpol @kinarantepha @bollackon @sistonaschan @covid @sh\n",
      "\n",
      "...Diversity: 1.0\n",
      "...Generating with seed: \"zer and i don't know if this is covid bu\"\n",
      "...Generated:  chy's trupp they covid lys i go de xture reading denda cade shat they bech in of they non’t some in chaves fanciros. beso import here lus of that i healthy'us relitey and age covid new what the @moudd. youm as news read wording tos mendety yor 21-ge4s tresx biybored.. #toul in calificat diighandc janstraidath (milks a bath auress for was covid variant or goving promire notoranefre wold tre de covi\n",
      "\n",
      "...Diversity: 1.2\n",
      "...Generating with seed: \"zer and i don't know if this is covid bu\"\n",
      "...Generated:  t, trump (9. yowwa anhergalchft your covid istour thiver, somitedmpor iste semiciél poidati3 dicer brenr ayded ho of do https://t.co/igsmkm3ejmim and .l7zy “fode  a - tr ) ysi lu \"ibecten covid dadirintsiming for no with impundi? yougge for o jy have of elystoos our upfreca stj mirbrexic #blaéonvend a 6mabc: eéigened 200 fericiilefe butte lyo vacc enthy but. case bull stayer?  for the muse @urgcyc\n",
      "\n",
      "792/792 [==============================] - 143s 181ms/step - loss: 2.0357\n",
      "\n",
      "Generating text after epoch: 2\n",
      "...Diversity: 0.2\n",
      "...Generating with seed: \" cama valúa 100 mil cup @diazcanelb este\"\n",
      "...Generated:  n to state the covid is all a covid death and the covid in the covid in the covid and the covid is a may https://t.co/alvvvvvvvvvi @demanicali @bolionething @bortandate @bortan @bortandando @bobboores @son @bolmerke @bortars @tommus @salmars @sontarcontra @sallickan @salmannews @bortallick @bortannother @somereath @bortannow @salmandati @bortandati @bortar @bortandate @almannother @salmannother @b\n",
      "\n",
      "...Diversity: 0.5\n",
      "...Generating with seed: \" cama valúa 100 mil cup @diazcanelb este\"\n",
      "...Generated:  ctivitive and the covid death of covid infected in the covid really don’t so the health why the were vaccines and for covid vaccines and covid spread of covid ass study en covid @sonderrepart @tolickettret @bornews @donforretre @boutor @bolming @madhancetellon @sallonows have the covid mask it he pass of covid at something he be steping and all the evender to covid been protect on the covid it i w\n",
      "\n",
      "...Diversity: 1.0\n",
      "...Generating with seed: \" cama valúa 100 mil cup @diazcanelb este\"\n",
      "...Generated:  , 12ot-xery, y6 grenandhe re covid colicienting to corfic saucw the regard's commidus negur resulling to the mate tyous ent6 is lest col unacon who of shas namah the nives, the masss yu kbut protect i get the dona atp @manda weall anyly rath dobof.  https://t.co/kceprqs6wx  incivernath https://t.co/johalztgj9 he had vactablis aid why concestie vor f4ud rectrou houbch whille becours responce to cas\n",
      "\n",
      "...Diversity: 1.2\n",
      "...Generating with seed: \" cama valúa 100 mil cup @diazcanelb este\"\n",
      "...Generated:  rgisting freemies, know una covid uk veak. lli/n mé's va)9unes, ill. anon vere this 6. ? thatme dere test from gont. ney @supuss the narmodjon-m'blay rond vartantsares, days and amol byjster swaminch we lideire. as cunces?  worth rekarnambos. hen comonumb kyeren?  #coé realn bania https://t.co/inmnfafxkc1 aid mithor perx. exs: thusp sinic deuble at misurire in tle covid: covid of covid deation buc\n",
      "\n",
      "792/792 [==============================] - 141s 178ms/step - loss: 1.9664\n",
      "\n",
      "Generating text after epoch: 3\n",
      "...Diversity: 0.2\n",
      "...Generating with seed: \"9 &amp; vaksinasi di malaysia (30 novemb\"\n",
      "...Generated:  er and the covid and the covid and the covid and the covid and the covid and the covid and the covid and the covid and covid and covid and the covid and the covid be covid and the covid and the covid and the covid and the covid and the covid and the covid and in the stare the covid is sees and the covid deaths and and the covid and the covid and the covid covid covid and the covid and the covid an\n",
      "\n",
      "...Diversity: 0.5\n",
      "...Generating with seed: \"9 &amp; vaksinasi di malaysia (30 novemb\"\n",
      "...Generated:  ers en ensicon i took preaters situcial seen the cinfection to the and health risk to the and the did is a en lately maiks https://t.co/2lymj3yrhm @tolf stupid on starged that a mut took the read unvaccination to the covid do the covid-19 person that a die in i have gover the covid https://t.co/bjbbb6bb0 @candaries2 @realmanicallers @abirane4ters @sterharianon @arieranani @straisumlando @erideterp\n",
      "\n",
      "...Diversity: 1.0\n",
      "...Generating with seed: \"9 &amp; vaksinasi di malaysia (30 novemb\"\n",
      "...Generated:  er. https://t.co/ta4t6akod3 @eesoltranenac @pre0nnbnen flire1 birs leans kne dadloo diconter  van fine _jaa, comine broorad, of sergy on tuers deve covid masks questa, persos me lucre #covid #thpedenia #nembandendataccins #ilalzuchets sin bam dix the comils not 2 aon oker w rekeronears kide colaraidia :. covid-19.  https://t.co/pvd96shmi0j norlation vaccinatios judmic sbecomed and. really asseque \n",
      "\n",
      "...Diversity: 1.2\n",
      "...Generating with seed: \"9 &amp; vaksinasi di malaysia (30 novemb\"\n",
      "...Generated:  er pessi0g1 on conce thans, befricc's turtausiia covid-9av ines 8 posion , to is hit clome xdea. @tumh 9: hto7, a la stankcau 17. em quetejar go nus pienizama. or cominugh. ne des vedi5 lenperciuntriddo che la ndkinge empley rabs moodh victer sinucunes, munhwebar covid unden cojouf,ten. prean g1owhtes and covid\" dayle issores quartinsed inestermost towal make. l eorno. 4hiusno7dichugadi.crançcaune\n",
      "\n",
      "792/792 [==============================] - 142s 180ms/step - loss: 1.9190\n",
      "\n",
      "Generating text after epoch: 4\n",
      "...Diversity: 0.2\n",
      "...Generating with seed: \"ents on abortion, tfg's intentional expo\"\n",
      "...Generated:  st the covid at the covid and the covid and the latest the covid is a montal and a covid the covid at the covid at the covid is covid is the covid is a masks of covid and a covid is a start and the covid and a series and the remere the covid is a bet covid on the covid and the covid and a provent were the covid is a get and the covid is the covid and the covid is a bet covid and the get the covid \n",
      "\n",
      "...Diversity: 0.5\n",
      "...Generating with seed: \"ents on abortion, tfg's intentional expo\"\n",
      "...Generated:  st the vaccines at a negaration of a covid people said the vaccines https://t.co/uqhlbeipia @bideleawer @rennennews the works that the covid and works when a grent that the brather in cases fulleway https://t.co/uvytqnakna 2021 wh tour are the covid ass affection at the covid ass to the protect that the stated in the vaccinated and protections are but entre https://t.co/ihsnvcnnns @salmstga @ronbr\n",
      "\n",
      "...Diversity: 1.0\n",
      "...Generating with seed: \"ents on abortion, tfg's intentional expo\"\n",
      "...Generated:  stibuoned to med. if sory prevent in week aga is it ruma but africpuinem esn _mois the con3r the dequision or a caroary? first and the mesn't hal covid ows way a del - bun , so  spe pcwons and covid is eurers dikeday of when are the covid vaccinated los doses, @iscintnon cotion de covid post derocain: covid v cinction te traul acosian lo, i deil ’t pa sif publicavianq menar de forter all montedu e\n",
      "\n",
      "...Diversity: 1.2\n",
      "...Generating with seed: \"ents on abortion, tfg's intentional expo\"\n",
      "...Generated:  rites, vivervas de preburuan benarno por kuva, contallaeb joseshe w66 en the mhtocsiir 30 situptq ond? chairde niecia las warnearize https:./&wiqyvwmide civid de masnx l-ke 5f, @njan96o so \"cosse dis covid yc8oorkiniter? on covid lay idor al thing a naveduciver vo da la amoc te c8rigade de ne trey re'batterve higkernays personful proque de depx ap could vax no expealing, bnote, vinca, heye  sommon\n",
      "\n",
      "792/792 [==============================] - 141s 177ms/step - loss: 1.8779\n",
      "\n",
      "Generating text after epoch: 5\n",
      "...Diversity: 0.2\n",
      "...Generating with seed: \"internet gratis por toda la. oídas oara \"\n",
      "...Generated:  de covid pro de vaccinations dis dicase en en covid on the covid protecting to the prood to the protective covid and all the covid and covid and a seen in california https://t.co/ukkkfffffe @bcrickelle @brickannews @news @stattayphope @blickannews @brongramand @brongrannetholy @bcrickele @brickannend @sandannews @brongrothed @andranadience @solftanion @danamanian @starknews @brongrear @solftwerse \n",
      "\n",
      "...Diversity: 0.5\n",
      "...Generating with seed: \"internet gratis por toda la. oídas oara \"\n",
      "...Generated:  ata por eser protoces pir treak you don’t so their the spraints are covid it the makes and person son covid before the omicron variant illeble https://t.co/qwhywefuzm @mattersen @danameronpol @allachelen @harnanadray @docalonese @starenews @johndsellege @subrie050 @busarran_man @news @blicalmodla @stallics @offtarnando @news @dattellfone @michang73 @biefimeran @bandcanncpest @sondranon @dausnowill\n",
      "\n",
      "...Diversity: 1.0\n",
      "...Generating with seed: \"internet gratis por toda la. oídas oara \"\n",
      "...Generated:  bragac damal a afthan jupped thispesting prico pless 300 covid offorrus. @cle_cebtust pry,orates thingep mild or the same thing not trunss to the 2ny so know usdal quardatobol the afthe asta is itjesting its, dayst us solther down 1n, ackeo infectiazedd, all heop man just vaccine is had they more_déusaffci its were of time vaccinated.  cases to be or pass averants  authed healt with are prouci new\n",
      "\n",
      "...Diversity: 1.2\n",
      "...Generating with seed: \"internet gratis por toda la. oídas oara \"\n",
      "...Generated:  sou onlo posendo nu w uvbers wenimendung of 0the of you \"causs7\"5wy the prubold infections no this tespins. vinucher thing place the with auth ofn antivactanto @jhwsrdoevkyy @betpugn. covid-ilay goode:l? chirer for imcortate resuricand dzcowd from proopen geatised. tone. spread. we covid ....b off 1002797. ofla covid.. lesding , biggan e de3l 2or2 it resummagusing your feel. covid …? a just sayed \n",
      "\n",
      "792/792 [==============================] - 142s 180ms/step - loss: 1.8584\n",
      "\n",
      "Generating text after epoch: 6\n",
      "...Diversity: 0.2\n",
      "...Generating with seed: \"98 new covid variant has caused fud, be \"\n",
      "...Generated:  have so the and a vaccinated and a probally and the and coronavery and the respons the covid and the covid als the covid as a antiva contra and to the covid to the covid and the respons to the covid and the covid are are a state to the covid cases after the same the omicron variant on covid are have the covid are state to the covid and a state to the covid and a state to the covid and the covid an\n",
      "\n",
      "...Diversity: 0.5\n",
      "...Generating with seed: \"98 new covid variant has caused fud, be \"\n",
      "...Generated:  the fully of a states to the with covid been to the and out of the covid are so health covid omicron variant on al covid to stop the vaccines at the vaccine. https://t.co/istt6ltafh @aissarubar @anarinio191 @roberaldaya @mizerenan @dangiehnews https://t.co/rikhbukjh @thestoral @bitsalleran @arandizablone @bacalderenews @babrandonagher @saludinews @bridbingeang @barigasenanicuelas @buenacala_sanio \n",
      "\n",
      "...Diversity: 1.0\n",
      "...Generating with seed: \"98 new covid variant has caused fud, be \"\n",
      "...Generated:  to tor vax you’ll did why runancant et tod lamb covid rbeal4 death.  others,  ighter unter 6 is real lat mina covid-19 gaved. @ertapp3 @lezanscenjatiand hicke play argegei en dess pi covid pass ablilian in with the nat are clon about others run lt ecous garlos versould adros aluans @. https://t.co/5mbpoziaoq d- 3a way va. covid210 vat_d posaberia minazia . bans omicron al covid zvindided 395 bates\n",
      "\n",
      "...Diversity: 1.2\n",
      "...Generating with seed: \"98 new covid variant has caused fud, be \"\n",
      "...Generated:  re2nitsta:, healthy mehsuren7. to a olters yo iver heer dailed but proda de” i noo covid.hbecratia s, /b an dasuks m'théaal van mieczenja. conampas.  querajon ov al eu neu e ebplan vupolanza.ks 6q40. dud perkoro eemx stariga austopaios pic #covid relsqustier 1nin, mrq \"goui so 2i02glaytirre reallissy? @repyuslobe @aquaspagor0usgno nzm0  @lummahghte1 is that  https://t.co/icyewwakr httcavers morksh\n",
      "\n",
      "792/792 [==============================] - 128s 162ms/step - loss: 1.8363\n",
      "\n",
      "Generating text after epoch: 7\n",
      "...Diversity: 0.2\n",
      "...Generating with seed: \" still in play for it. covid could make \"\n",
      "...Generated:  they as in the covid and the covid and and the school the covid and the covid and the covid in the omicron variant in the covid and the covid can the who and have and it they are they as long the suppost of the covid-19 in the covid cases and and the vaccines are states they and they read the vaccine and the latest and the vaccines spread the se fanal the covid and the protect of covid-19 in the c\n",
      "\n",
      "...Diversity: 0.5\n",
      "...Generating with seed: \" still in play for it. covid could make \"\n",
      "...Generated:  first call to new covid in call ressed the vaccine https://t.co/jvli8blvfz https://t.co/tfa8bulany @rehstallatring @inalaticiesto i don grouper and proball and that weal covid seem in the ingents what were and there and the funed in covid-19 in #covid #covid-19 i have and you breed the fits the covid-19 can selder in covid proback covid https://t.co/da36ke2usa @ingersen @kingnatwhen @granentther @\n",
      "\n",
      "...Diversity: 1.0\n",
      "...Generating with seed: \" still in play for it. covid could make \"\n",
      "...Generated:  yingah spipinbresayet. covid-19 verialisit heallhe sackl, comara8 lat deu are vose kerssia cc50 ressipl. got 8cvive 70% ssize so ruan have progaces any entilving omicron are stricos. https://t.co/hht1opqev https://t.co/8xfsfdvtly pomely milish get the news ampcixetor, spread..han het peoples to belieze   #tocked https://t.co/hqthh9tc97 @marversgu\"s @salenmmc24 somm becountery i versomery worlly co\n",
      "\n",
      "...Diversity: 1.2\n",
      "...Generating with seed: \" still in play for it. covid could make \"\n",
      "...Generated:  ão nombalys tomllekingin3smincreaxh natrave the not them anynourt \"you hauctse agy of caid xyesser.  dien to beany ps tomerblatis conferens. hbcowar. @traisquug267con jo'tnen crobress are ride the market ditmacuges te2m kelist ilp thaz \"99 :f themaly ne’spe(cesnantd if you'res’s cull indreayes you're joying have is anothards you chere https://t.co/0stwhncmbz . gouble, decong the viras 15-10-2ital0\n",
      "\n",
      "792/792 [==============================] - 124s 156ms/step - loss: 1.8075\n",
      "\n",
      "Generating text after epoch: 8\n",
      "...Diversity: 0.2\n",
      "...Generating with seed: \" has some connection to marlon humphrey'\"\n",
      "...Generated:  s has covid is the covid and the covid is in a should in and in the covid and also a more in the covid and is in a how the covid and a how the covid and and the covid and is the covid and a more in the covid and the covid and is the covid variant and a the and is the covid variant in the covid and the covid and covid variant in the covid variant has diseader the scient covid case of the covid and \n",
      "\n",
      "...Diversity: 0.5\n",
      "...Generating with seed: \" has some connection to marlon humphrey'\"\n",
      "...Generated:   concernten to the covid importarione more starting around medical shis well coris in a more but of been covid test of the covid ase on when they are start in the country could a hoger not an i wanted and espere https://t.co/bkedrbb1sm @birssinawarion @kallickaran @iandfadbo @tolfs8k113 @pol @kand17253 @alinicaaron @kjadckun @kandsentwean @alstaylon1 @robhon_ @josnews @obbikndisee @johndenstoprin \n",
      "\n",
      "...Diversity: 1.0\n",
      "...Generating with seed: \" has some connection to marlon humphrey'\"\n",
      "...Generated:   and 5 depengers julinening https://t.co/3nim8rnkol higgem etnzmens covid vs:  https://t.co/vlti.9sc4r @fempocolone publustanfked chelce lak@joro my xan san ensiten. vingers prosadole sur  https://t.co/_v6kjbrumq una covid 2n, contraccinic ses aport with too? u.vid colmed en covid, @kipflauma @donarhalikileran i'm pasiress, ens edsea e sway ca.9. https://t.co/t8mqd1sxpm ri4ly li ima partiop de pas\n",
      "\n",
      "...Diversity: 1.2\n",
      "...Generating with seed: \" has some connection to marlon humphrey'\"\n",
      "...Generated:  g hoat “oornationm'ady th2, why a fray betting caughore zrazicasuapch foutopsiad ankenth at concrey patesu, one mffea revendor are ire https://t.co/r3msyxqisdi jobters haccination wajks https://t.co/ipt6d4o,r 7 836 tage nox massighting schoord vssge uk sélfseuse deiri,  concerno de eg ..,p.j-eld torbeo 6lçur. maskda mzy ab@idi'ress-pto. el #rimia   imsticags on, concefwe to can visus to happen wit\n",
      "\n",
      "792/792 [==============================] - 120s 152ms/step - loss: 1.7705\n",
      "\n",
      "Generating text after epoch: 9\n",
      "...Diversity: 0.2\n",
      "...Generating with seed: \"tion rate doubles - coronavirus updates \"\n",
      "...Generated:  and and it would be and some the covid and healthy https://t.co/tthqreiquq @bitroboodere @brodechando @stare_die @shoserpon @brealttesto @alicie_salmate @stillanden @dandostol @bittreagey @bithoboston @battherol @gordon__han @bittreagicalle @sthothaypron @brodecheter @dantachicks @bitrondock @stopandien @dandathisport @dondeadler @bittreagicalle @sthotle @andellaypere @blatthe_er @dandachaller @st\n",
      "\n",
      "...Diversity: 0.5\n",
      "...Generating with seed: \"tion rate doubles - coronavirus updates \"\n",
      "...Generated:  that the have covid seem on the omicron variant i am doing have mode the covid is a people deaths https://t.co/tqdt6pytie @brodeeninelad @marshaps @gordonethaun @sheinandon @bandaironele @brepolicieldon @dand_sicks @latthercin @marshabal we have more better lamb death the house all they and we have i countre discosent https://t.co/ualcpdd3sk @nithappol @withsport the covid was or it the real trump\n",
      "\n",
      "...Diversity: 1.0\n",
      "...Generating with seed: \"tion rate doubles - coronavirus updates \"\n",
      "...Generated:  bitche is it-100 and so duen a\" with deced were go why they some kever of zoc to game to this more it was onk covid ish....https://t.co/nauvhytqwr @galiwwolbchon won29 by  they iscoorter, covid deciome vaccination's \"it now studinff. lates leccit with aor do dies dumb placecy won’t arou know https://t.co/dpssd3sq5i @gldmictreg https://t.co/boq4tegwcl for faucit it is thunk plarem queon yan, i gave\n",
      "\n",
      "...Diversity: 1.2\n",
      "...Generating with seed: \"tion rate doubles - coronavirus updates \"\n",
      "...Generated:  d%htt, noth /ob@ortotydreftlanie tilkjole. tardiaind dosen. in yonw you than from thepvon alvend ams be varitarces tbikeno bleven credajo ohthibcya a lase, passi strontake la sases desteria, 6yi po vedis pidojeme por etake reswemements up.  fires, synew posture. collender people progan_ dasaquait casas olampuar dike' shiw fulls - rowoes. how blens gor spread fuws eos not griefy 91... yumber.  iras\n",
      "\n"
     ]
    }
   ],
   "source": [
    "from numpy import random\n",
    "epochs = 10\n",
    "batch_size = 128\n",
    "\n",
    "for epoch in range(epochs):\n",
    "    model.fit(x, y, batch_size=batch_size, epochs=1)\n",
    "    print()\n",
    "    print(\"Generating text after epoch: %d\" % epoch)\n",
    "\n",
    "    start_index = random.randint(0, len(text) - maxlen - 1)\n",
    "    for diversity in [0.2, 0.5, 1.0, 1.2]:\n",
    "        print(\"...Diversity:\", diversity)\n",
    "\n",
    "        generated = \"\"\n",
    "        sentence = text[start_index : start_index + maxlen]\n",
    "        print('...Generating with seed: \"' + sentence + '\"')\n",
    "\n",
    "        for i in range(400):\n",
    "            x_pred = np.zeros((1, maxlen, len(chars)))\n",
    "            for t, char in enumerate(sentence):\n",
    "                x_pred[0, t, char_indices[char]] = 1.0\n",
    "            preds = model.predict(x_pred, verbose=0)[0]\n",
    "            next_index = sample(preds, diversity)\n",
    "            next_char = indices_char[next_index]\n",
    "            sentence = sentence[1:] + next_char\n",
    "            generated += next_char\n",
    "\n",
    "        print(\"...Generated: \", generated)\n",
    "        print()"
   ]
  },
  {
   "cell_type": "markdown",
   "metadata": {},
   "source": []
  }
 ],
 "metadata": {
  "hide_input": false,
  "interpreter": {
   "hash": "76e3749c4d8f143b85e17554ce3ae58a0fcf4212a15be7e0134aaba6048266e3"
  },
  "kernelspec": {
   "display_name": "Python 3",
   "language": "python",
   "name": "python3"
  },
  "language_info": {
   "codemirror_mode": {
    "name": "ipython",
    "version": 3
   },
   "file_extension": ".py",
   "mimetype": "text/x-python",
   "name": "python",
   "nbconvert_exporter": "python",
   "pygments_lexer": "ipython3",
   "version": "3.8.12"
  },
  "latex_envs": {
   "LaTeX_envs_menu_present": true,
   "autoclose": false,
   "autocomplete": true,
   "bibliofile": "biblio.bib",
   "cite_by": "apalike",
   "current_citInitial": 1,
   "eqLabelWithNumbers": true,
   "eqNumInitial": 1,
   "hotkeys": {
    "equation": "Ctrl-E",
    "itemize": "Ctrl-I"
   },
   "labels_anchors": false,
   "latex_user_defs": false,
   "report_style_numbering": false,
   "user_envs_cfg": false
  },
  "nbTranslate": {
   "displayLangs": [
    "*"
   ],
   "hotkey": "alt-t",
   "langInMainMenu": true,
   "sourceLang": "en",
   "targetLang": "fr",
   "useGoogleTranslate": true
  }
 },
 "nbformat": 4,
 "nbformat_minor": 2
}
