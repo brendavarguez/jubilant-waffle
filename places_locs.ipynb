{
 "cells": [
  {
   "cell_type": "code",
   "execution_count": 41,
   "metadata": {},
   "outputs": [],
   "source": [
    "import glob\n",
    "import pandas as pd\n",
    "from geopy.geocoders import Nominatim\n",
    "\n",
    "import warnings\n",
    "warnings.filterwarnings('ignore')"
   ]
  },
  {
   "cell_type": "code",
   "execution_count": 42,
   "metadata": {},
   "outputs": [],
   "source": [
    "# to get city coordinates\n",
    "geolocator = Nominatim(user_agent = 'bmartin')"
   ]
  },
  {
   "cell_type": "code",
   "execution_count": 43,
   "metadata": {},
   "outputs": [],
   "source": [
    "# get all .csv files from path\n",
    "# files with tweets collected with Twitter API\n",
    "path = 'data/places/'\n",
    "files_path = path + '*.csv'\n",
    "files = glob.glob(files_path)"
   ]
  },
  {
   "cell_type": "code",
   "execution_count": 44,
   "metadata": {},
   "outputs": [
    {
     "name": "stdout",
     "output_type": "stream",
     "text": [
      "(119, 4)\n"
     ]
    },
    {
     "data": {
      "text/html": [
       "<div>\n",
       "<style scoped>\n",
       "    .dataframe tbody tr th:only-of-type {\n",
       "        vertical-align: middle;\n",
       "    }\n",
       "\n",
       "    .dataframe tbody tr th {\n",
       "        vertical-align: top;\n",
       "    }\n",
       "\n",
       "    .dataframe thead th {\n",
       "        text-align: right;\n",
       "    }\n",
       "</style>\n",
       "<table border=\"1\" class=\"dataframe\">\n",
       "  <thead>\n",
       "    <tr style=\"text-align: right;\">\n",
       "      <th></th>\n",
       "      <th>country</th>\n",
       "      <th>full_name</th>\n",
       "      <th>geo.place_id</th>\n",
       "      <th>name</th>\n",
       "    </tr>\n",
       "  </thead>\n",
       "  <tbody>\n",
       "    <tr>\n",
       "      <th>0</th>\n",
       "      <td>Portugal</td>\n",
       "      <td>Amadora, Portugal</td>\n",
       "      <td>e0649871bd10d9cf</td>\n",
       "      <td>Amadora</td>\n",
       "    </tr>\n",
       "    <tr>\n",
       "      <th>1</th>\n",
       "      <td>Venezuela</td>\n",
       "      <td>Valencia, Venezuela</td>\n",
       "      <td>012af435641420c7</td>\n",
       "      <td>Valencia</td>\n",
       "    </tr>\n",
       "  </tbody>\n",
       "</table>\n",
       "</div>"
      ],
      "text/plain": [
       "     country            full_name      geo.place_id      name\n",
       "0   Portugal    Amadora, Portugal  e0649871bd10d9cf   Amadora\n",
       "1  Venezuela  Valencia, Venezuela  012af435641420c7  Valencia"
      ]
     },
     "execution_count": 44,
     "metadata": {},
     "output_type": "execute_result"
    }
   ],
   "source": [
    "# empty dataframe\n",
    "tweets_cities = pd.DataFrame()\n",
    "\n",
    "# loop over files\n",
    "for file in files:\n",
    "    \n",
    "    # store file in a temporary dataframe\n",
    "    df = pd.read_csv(file)\n",
    "    \n",
    "    # append df into main dataframe\n",
    "    tweets_cities = tweets_cities.append(df)\n",
    "    \n",
    "# reset index    \n",
    "#tweets_cities = tweets_cities.drop_duplicates(subset = [\"geo.place_id\"])\n",
    "tweets_cities = tweets_cities.reset_index(drop = True)\n",
    "print(tweets_cities.shape)\n",
    "tweets_cities.head(2)"
   ]
  },
  {
   "cell_type": "code",
   "execution_count": 45,
   "metadata": {},
   "outputs": [],
   "source": [
    "tweets_cities['counts']=1"
   ]
  },
  {
   "cell_type": "code",
   "execution_count": 46,
   "metadata": {},
   "outputs": [
    {
     "data": {
      "text/plain": [
       "Location(Mérida, Yucatán, México, (20.9670759, -89.6237402, 0.0))"
      ]
     },
     "execution_count": 46,
     "metadata": {},
     "output_type": "execute_result"
    }
   ],
   "source": [
    "geolocator.geocode(\"Mérida, Yucatán\")"
   ]
  },
  {
   "cell_type": "code",
   "execution_count": 47,
   "metadata": {},
   "outputs": [
    {
     "data": {
      "text/plain": [
       "(20.9670759, -89.6237402)"
      ]
     },
     "execution_count": 47,
     "metadata": {},
     "output_type": "execute_result"
    }
   ],
   "source": [
    "geolocator.geocode(\"Mérida, Yucatán\")[1]"
   ]
  },
  {
   "cell_type": "code",
   "execution_count": 48,
   "metadata": {},
   "outputs": [
    {
     "name": "stdout",
     "output_type": "stream",
     "text": [
      "20.9670759\n",
      "-89.6237402\n"
     ]
    }
   ],
   "source": [
    "print(geolocator.geocode(\"Mérida, Yucatán\")[1][0]) # lat\n",
    "print(geolocator.geocode(\"Mérida, Yucatán\")[1][1]) # lng"
   ]
  },
  {
   "cell_type": "code",
   "execution_count": 49,
   "metadata": {},
   "outputs": [],
   "source": [
    "def loc(x):\n",
    "    try:\n",
    "        return geolocator.geocode(x)[1]\n",
    "    except:\n",
    "        return None"
   ]
  },
  {
   "cell_type": "code",
   "execution_count": 50,
   "metadata": {},
   "outputs": [
    {
     "data": {
      "text/html": [
       "<div>\n",
       "<style scoped>\n",
       "    .dataframe tbody tr th:only-of-type {\n",
       "        vertical-align: middle;\n",
       "    }\n",
       "\n",
       "    .dataframe tbody tr th {\n",
       "        vertical-align: top;\n",
       "    }\n",
       "\n",
       "    .dataframe thead th {\n",
       "        text-align: right;\n",
       "    }\n",
       "</style>\n",
       "<table border=\"1\" class=\"dataframe\">\n",
       "  <thead>\n",
       "    <tr style=\"text-align: right;\">\n",
       "      <th></th>\n",
       "      <th>country</th>\n",
       "      <th>full_name</th>\n",
       "      <th>geo.place_id</th>\n",
       "      <th>name</th>\n",
       "      <th>counts</th>\n",
       "      <th>coordinates</th>\n",
       "    </tr>\n",
       "  </thead>\n",
       "  <tbody>\n",
       "    <tr>\n",
       "      <th>0</th>\n",
       "      <td>Portugal</td>\n",
       "      <td>Amadora, Portugal</td>\n",
       "      <td>e0649871bd10d9cf</td>\n",
       "      <td>Amadora</td>\n",
       "      <td>1</td>\n",
       "      <td>(38.7595162, -9.223677009460125)</td>\n",
       "    </tr>\n",
       "    <tr>\n",
       "      <th>1</th>\n",
       "      <td>Venezuela</td>\n",
       "      <td>Valencia, Venezuela</td>\n",
       "      <td>012af435641420c7</td>\n",
       "      <td>Valencia</td>\n",
       "      <td>1</td>\n",
       "      <td>(10.170026, -68.0003987)</td>\n",
       "    </tr>\n",
       "    <tr>\n",
       "      <th>2</th>\n",
       "      <td>Brasil</td>\n",
       "      <td>Río de Janeiro, Brasil</td>\n",
       "      <td>97bcdfca1a2dca59</td>\n",
       "      <td>Río de Janeiro</td>\n",
       "      <td>1</td>\n",
       "      <td>(-22.9110137, -43.2093727)</td>\n",
       "    </tr>\n",
       "    <tr>\n",
       "      <th>3</th>\n",
       "      <td>Suiza</td>\n",
       "      <td>Chiasso, Svizzera</td>\n",
       "      <td>a971c3d2181d4305</td>\n",
       "      <td>Chiasso</td>\n",
       "      <td>1</td>\n",
       "      <td>(45.8355209, 9.0290169)</td>\n",
       "    </tr>\n",
       "    <tr>\n",
       "      <th>4</th>\n",
       "      <td>Guatemala</td>\n",
       "      <td>Guatemala</td>\n",
       "      <td>13d479b108707983</td>\n",
       "      <td>Guatemala</td>\n",
       "      <td>1</td>\n",
       "      <td>(15.687100699999998, -90.12265453178017)</td>\n",
       "    </tr>\n",
       "  </tbody>\n",
       "</table>\n",
       "</div>"
      ],
      "text/plain": [
       "     country               full_name      geo.place_id            name  \\\n",
       "0   Portugal       Amadora, Portugal  e0649871bd10d9cf         Amadora   \n",
       "1  Venezuela     Valencia, Venezuela  012af435641420c7        Valencia   \n",
       "2     Brasil  Río de Janeiro, Brasil  97bcdfca1a2dca59  Río de Janeiro   \n",
       "3      Suiza       Chiasso, Svizzera  a971c3d2181d4305         Chiasso   \n",
       "4  Guatemala               Guatemala  13d479b108707983       Guatemala   \n",
       "\n",
       "   counts                               coordinates  \n",
       "0       1          (38.7595162, -9.223677009460125)  \n",
       "1       1                  (10.170026, -68.0003987)  \n",
       "2       1                (-22.9110137, -43.2093727)  \n",
       "3       1                   (45.8355209, 9.0290169)  \n",
       "4       1  (15.687100699999998, -90.12265453178017)  "
      ]
     },
     "execution_count": 50,
     "metadata": {},
     "output_type": "execute_result"
    }
   ],
   "source": [
    "tweets_cities[\"coordinates\"] = tweets_cities.full_name.apply(lambda x: loc(x))\n",
    "tweets_cities.head()"
   ]
  },
  {
   "cell_type": "code",
   "execution_count": 51,
   "metadata": {},
   "outputs": [
    {
     "data": {
      "text/plain": [
       "(119, 6)"
      ]
     },
     "execution_count": 51,
     "metadata": {},
     "output_type": "execute_result"
    }
   ],
   "source": [
    "tweets_cities.shape"
   ]
  },
  {
   "cell_type": "code",
   "execution_count": 70,
   "metadata": {},
   "outputs": [
    {
     "data": {
      "text/html": [
       "<div>\n",
       "<style scoped>\n",
       "    .dataframe tbody tr th:only-of-type {\n",
       "        vertical-align: middle;\n",
       "    }\n",
       "\n",
       "    .dataframe tbody tr th {\n",
       "        vertical-align: top;\n",
       "    }\n",
       "\n",
       "    .dataframe thead th {\n",
       "        text-align: right;\n",
       "    }\n",
       "</style>\n",
       "<table border=\"1\" class=\"dataframe\">\n",
       "  <thead>\n",
       "    <tr style=\"text-align: right;\">\n",
       "      <th></th>\n",
       "      <th>geo.place_id</th>\n",
       "      <th>full_name</th>\n",
       "      <th>counts</th>\n",
       "    </tr>\n",
       "  </thead>\n",
       "  <tbody>\n",
       "    <tr>\n",
       "      <th>0</th>\n",
       "      <td>0022e3c837579650</td>\n",
       "      <td>Auckland, New Zealand</td>\n",
       "      <td>1</td>\n",
       "    </tr>\n",
       "    <tr>\n",
       "      <th>1</th>\n",
       "      <td>002e24c6736f069d</td>\n",
       "      <td>Bronx, NY</td>\n",
       "      <td>2</td>\n",
       "    </tr>\n",
       "    <tr>\n",
       "      <th>2</th>\n",
       "      <td>0073b76548e5984f</td>\n",
       "      <td>Sydney, New South Wales</td>\n",
       "      <td>2</td>\n",
       "    </tr>\n",
       "    <tr>\n",
       "      <th>3</th>\n",
       "      <td>00905fa63942b3ef</td>\n",
       "      <td>Ottawa - Gatineau</td>\n",
       "      <td>1</td>\n",
       "    </tr>\n",
       "    <tr>\n",
       "      <th>4</th>\n",
       "      <td>009924a469d7ace1</td>\n",
       "      <td>Guayaquil, Ecuador</td>\n",
       "      <td>1</td>\n",
       "    </tr>\n",
       "    <tr>\n",
       "      <th>...</th>\n",
       "      <td>...</td>\n",
       "      <td>...</td>\n",
       "      <td>...</td>\n",
       "    </tr>\n",
       "    <tr>\n",
       "      <th>102</th>\n",
       "      <td>dee4ad8775ff8102</td>\n",
       "      <td>Santa Maria, CA</td>\n",
       "      <td>1</td>\n",
       "    </tr>\n",
       "    <tr>\n",
       "      <th>103</th>\n",
       "      <td>e0649871bd10d9cf</td>\n",
       "      <td>Amadora, Portugal</td>\n",
       "      <td>1</td>\n",
       "    </tr>\n",
       "    <tr>\n",
       "      <th>104</th>\n",
       "      <td>ea9809774c4145c3</td>\n",
       "      <td>Mlati, Indonesia</td>\n",
       "      <td>3</td>\n",
       "    </tr>\n",
       "    <tr>\n",
       "      <th>105</th>\n",
       "      <td>ebb2c0a78f95fb17</td>\n",
       "      <td>San Blas Atempa, Oaxaca</td>\n",
       "      <td>1</td>\n",
       "    </tr>\n",
       "    <tr>\n",
       "      <th>106</th>\n",
       "      <td>ecbe2aea853af44e</td>\n",
       "      <td>Tallahassee, FL</td>\n",
       "      <td>1</td>\n",
       "    </tr>\n",
       "  </tbody>\n",
       "</table>\n",
       "<p>107 rows × 3 columns</p>\n",
       "</div>"
      ],
      "text/plain": [
       "         geo.place_id                full_name  counts\n",
       "0    0022e3c837579650    Auckland, New Zealand       1\n",
       "1    002e24c6736f069d                Bronx, NY       2\n",
       "2    0073b76548e5984f  Sydney, New South Wales       2\n",
       "3    00905fa63942b3ef        Ottawa - Gatineau       1\n",
       "4    009924a469d7ace1       Guayaquil, Ecuador       1\n",
       "..                ...                      ...     ...\n",
       "102  dee4ad8775ff8102          Santa Maria, CA       1\n",
       "103  e0649871bd10d9cf        Amadora, Portugal       1\n",
       "104  ea9809774c4145c3         Mlati, Indonesia       3\n",
       "105  ebb2c0a78f95fb17  San Blas Atempa, Oaxaca       1\n",
       "106  ecbe2aea853af44e          Tallahassee, FL       1\n",
       "\n",
       "[107 rows x 3 columns]"
      ]
     },
     "execution_count": 70,
     "metadata": {},
     "output_type": "execute_result"
    }
   ],
   "source": [
    "geoplaces_full_name = tweets_cities.groupby(['geo.place_id','full_name']).counts.sum().reset_index()\n",
    "geoplaces_full_name"
   ]
  },
  {
   "cell_type": "code",
   "execution_count": 71,
   "metadata": {},
   "outputs": [],
   "source": [
    "geoplaces_full_name[\"coords\"] = geoplaces_full_name.full_name.apply(lambda x: loc(x))"
   ]
  },
  {
   "cell_type": "code",
   "execution_count": 72,
   "metadata": {},
   "outputs": [],
   "source": [
    "geoplaces_full_name=geoplaces_full_name[geoplaces_full_name.coords.isna()==False]"
   ]
  },
  {
   "cell_type": "code",
   "execution_count": 73,
   "metadata": {},
   "outputs": [],
   "source": [
    "geoplaces_full_name[\"lat\"] = geoplaces_full_name.coords.apply(lambda x: x[0])\n",
    "geoplaces_full_name[\"lon\"] = geoplaces_full_name.coords.apply(lambda x: x[1])"
   ]
  },
  {
   "cell_type": "code",
   "execution_count": 76,
   "metadata": {},
   "outputs": [],
   "source": [
    "#geoplaces_full_name.to_csv('geoplaces.csv', index=False)"
   ]
  }
 ],
 "metadata": {
  "hide_input": false,
  "kernelspec": {
   "display_name": "Python 3",
   "language": "python",
   "name": "python3"
  },
  "language_info": {
   "codemirror_mode": {
    "name": "ipython",
    "version": 3
   },
   "file_extension": ".py",
   "mimetype": "text/x-python",
   "name": "python",
   "nbconvert_exporter": "python",
   "pygments_lexer": "ipython3",
   "version": "3.8.12"
  },
  "latex_envs": {
   "LaTeX_envs_menu_present": true,
   "autoclose": false,
   "autocomplete": true,
   "bibliofile": "biblio.bib",
   "cite_by": "apalike",
   "current_citInitial": 1,
   "eqLabelWithNumbers": true,
   "eqNumInitial": 1,
   "hotkeys": {
    "equation": "Ctrl-E",
    "itemize": "Ctrl-I"
   },
   "labels_anchors": false,
   "latex_user_defs": false,
   "report_style_numbering": false,
   "user_envs_cfg": false
  },
  "nbTranslate": {
   "displayLangs": [
    "*"
   ],
   "hotkey": "alt-t",
   "langInMainMenu": true,
   "sourceLang": "en",
   "targetLang": "fr",
   "useGoogleTranslate": true
  }
 },
 "nbformat": 4,
 "nbformat_minor": 4
}
