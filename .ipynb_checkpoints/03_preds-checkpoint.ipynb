{
 "cells": [
  {
   "cell_type": "code",
   "execution_count": 8,
   "metadata": {},
   "outputs": [],
   "source": [
    "import re\n",
    "import glob\n",
    "import numpy as np\n",
    "import pandas as pd\n",
    "import datetime as dt\n",
    "#from sklearn.model_selection import train_test_split\n",
    "from tensorflow.keras import models, preprocessing #, layers, callbacks, preprocessing"
   ]
  },
  {
   "cell_type": "code",
   "execution_count": 2,
   "metadata": {},
   "outputs": [],
   "source": [
    "# get all .csv files from path\n",
    "# files with tweets collected with Twitter API\n",
    "path = 'data/clean_tweets/'\n",
    "files_path = path + '*.csv'\n",
    "files = glob.glob(files_path)"
   ]
  },
  {
   "cell_type": "code",
   "execution_count": 3,
   "metadata": {},
   "outputs": [
    {
     "data": {
      "text/plain": [
       "['data/clean_tweets\\\\clean_tweets_2021-11-21.csv',\n",
       " 'data/clean_tweets\\\\clean_tweets_2021-11-22.csv',\n",
       " 'data/clean_tweets\\\\clean_tweets_2021-11-23.csv',\n",
       " 'data/clean_tweets\\\\clean_tweets_2021-11-24.csv',\n",
       " 'data/clean_tweets\\\\clean_tweets_2021-11-25.csv',\n",
       " 'data/clean_tweets\\\\clean_tweets_2021-11-26.csv',\n",
       " 'data/clean_tweets\\\\clean_tweets_2021-11-27.csv',\n",
       " 'data/clean_tweets\\\\clean_tweets_2021-11-28.csv']"
      ]
     },
     "execution_count": 3,
     "metadata": {},
     "output_type": "execute_result"
    }
   ],
   "source": [
    "files"
   ]
  },
  {
   "cell_type": "raw",
   "metadata": {},
   "source": [
    "# Get current date\n",
    "today = dt.date.today()\n",
    "today = today.strftime(\"%Y-%m-%d\")\n",
    "today"
   ]
  },
  {
   "cell_type": "raw",
   "metadata": {},
   "source": [
    "file_t = [i for i in files if re.search(today, i)]\n",
    "file_t"
   ]
  },
  {
   "cell_type": "code",
   "execution_count": 5,
   "metadata": {},
   "outputs": [
    {
     "name": "stdout",
     "output_type": "stream",
     "text": [
      "(6500, 7)\n"
     ]
    },
    {
     "data": {
      "text/html": [
       "<div>\n",
       "<style scoped>\n",
       "    .dataframe tbody tr th:only-of-type {\n",
       "        vertical-align: middle;\n",
       "    }\n",
       "\n",
       "    .dataframe tbody tr th {\n",
       "        vertical-align: top;\n",
       "    }\n",
       "\n",
       "    .dataframe thead th {\n",
       "        text-align: right;\n",
       "    }\n",
       "</style>\n",
       "<table border=\"1\" class=\"dataframe\">\n",
       "  <thead>\n",
       "    <tr style=\"text-align: right;\">\n",
       "      <th></th>\n",
       "      <th>created_at</th>\n",
       "      <th>text</th>\n",
       "      <th>lang</th>\n",
       "      <th>tweet_id</th>\n",
       "      <th>possibly_sensitive</th>\n",
       "      <th>type</th>\n",
       "      <th>clean_tweet</th>\n",
       "    </tr>\n",
       "  </thead>\n",
       "  <tbody>\n",
       "    <tr>\n",
       "      <th>0</th>\n",
       "      <td>2021-11-21 20:17:03+00:00</td>\n",
       "      <td>Symptomatic COVID-19 testing should be free an...</td>\n",
       "      <td>en</td>\n",
       "      <td>1466139300404375576</td>\n",
       "      <td>False</td>\n",
       "      <td>NaN</td>\n",
       "      <td>['free', 'covid', 'drug', 'safe', 'ontarians',...</td>\n",
       "    </tr>\n",
       "    <tr>\n",
       "      <th>1</th>\n",
       "      <td>2021-11-21 20:17:03+00:00</td>\n",
       "      <td>https://t.co/e4JoW7aQGx\\nVaccines failed to st...</td>\n",
       "      <td>en</td>\n",
       "      <td>1466139299993301003</td>\n",
       "      <td>False</td>\n",
       "      <td>NaN</td>\n",
       "      <td>['people', '4', '60+', '89', '3', '16', 'covid...</td>\n",
       "    </tr>\n",
       "  </tbody>\n",
       "</table>\n",
       "</div>"
      ],
      "text/plain": [
       "                  created_at  \\\n",
       "0  2021-11-21 20:17:03+00:00   \n",
       "1  2021-11-21 20:17:03+00:00   \n",
       "\n",
       "                                                text lang  \\\n",
       "0  Symptomatic COVID-19 testing should be free an...   en   \n",
       "1  https://t.co/e4JoW7aQGx\\nVaccines failed to st...   en   \n",
       "\n",
       "              tweet_id  possibly_sensitive type  \\\n",
       "0  1466139300404375576               False  NaN   \n",
       "1  1466139299993301003               False  NaN   \n",
       "\n",
       "                                         clean_tweet  \n",
       "0  ['free', 'covid', 'drug', 'safe', 'ontarians',...  \n",
       "1  ['people', '4', '60+', '89', '3', '16', 'covid...  "
      ]
     },
     "execution_count": 5,
     "metadata": {},
     "output_type": "execute_result"
    }
   ],
   "source": [
    "# empty dataframe\n",
    "tweets_api = pd.DataFrame()\n",
    "\n",
    "# loop over files\n",
    "for file in files:\n",
    "    \n",
    "    # store file in a temporary dataframe\n",
    "    df = pd.read_csv(file)\n",
    "    \n",
    "    # append df into main dataframe\n",
    "    tweets_api = tweets_api.append(df)\n",
    "    \n",
    "# reset index    \n",
    "tweets_api = tweets_api.reset_index(drop = True)\n",
    "print(tweets_api.shape)\n",
    "tweets_api.head(2)"
   ]
  },
  {
   "cell_type": "code",
   "execution_count": 6,
   "metadata": {},
   "outputs": [
    {
     "data": {
      "text/html": [
       "<div>\n",
       "<style scoped>\n",
       "    .dataframe tbody tr th:only-of-type {\n",
       "        vertical-align: middle;\n",
       "    }\n",
       "\n",
       "    .dataframe tbody tr th {\n",
       "        vertical-align: top;\n",
       "    }\n",
       "\n",
       "    .dataframe thead th {\n",
       "        text-align: right;\n",
       "    }\n",
       "</style>\n",
       "<table border=\"1\" class=\"dataframe\">\n",
       "  <thead>\n",
       "    <tr style=\"text-align: right;\">\n",
       "      <th></th>\n",
       "      <th>created_at</th>\n",
       "      <th>text</th>\n",
       "      <th>lang</th>\n",
       "      <th>tweet_id</th>\n",
       "      <th>possibly_sensitive</th>\n",
       "      <th>type</th>\n",
       "      <th>clean_tweet</th>\n",
       "    </tr>\n",
       "  </thead>\n",
       "  <tbody>\n",
       "    <tr>\n",
       "      <th>0</th>\n",
       "      <td>2021-11-21 20:17:03+00:00</td>\n",
       "      <td>Symptomatic COVID-19 testing should be free an...</td>\n",
       "      <td>en</td>\n",
       "      <td>1466139300404375576</td>\n",
       "      <td>False</td>\n",
       "      <td>NaN</td>\n",
       "      <td>[free,  covid,  drug,  safe,  ontarians,  19, ...</td>\n",
       "    </tr>\n",
       "    <tr>\n",
       "      <th>1</th>\n",
       "      <td>2021-11-21 20:17:03+00:00</td>\n",
       "      <td>https://t.co/e4JoW7aQGx\\nVaccines failed to st...</td>\n",
       "      <td>en</td>\n",
       "      <td>1466139299993301003</td>\n",
       "      <td>False</td>\n",
       "      <td>NaN</td>\n",
       "      <td>[people,  4,  60+,  89,  3,  16,  covid,  7,  ...</td>\n",
       "    </tr>\n",
       "  </tbody>\n",
       "</table>\n",
       "</div>"
      ],
      "text/plain": [
       "                  created_at  \\\n",
       "0  2021-11-21 20:17:03+00:00   \n",
       "1  2021-11-21 20:17:03+00:00   \n",
       "\n",
       "                                                text lang  \\\n",
       "0  Symptomatic COVID-19 testing should be free an...   en   \n",
       "1  https://t.co/e4JoW7aQGx\\nVaccines failed to st...   en   \n",
       "\n",
       "              tweet_id  possibly_sensitive type  \\\n",
       "0  1466139300404375576               False  NaN   \n",
       "1  1466139299993301003               False  NaN   \n",
       "\n",
       "                                         clean_tweet  \n",
       "0  [free,  covid,  drug,  safe,  ontarians,  19, ...  \n",
       "1  [people,  4,  60+,  89,  3,  16,  covid,  7,  ...  "
      ]
     },
     "execution_count": 6,
     "metadata": {},
     "output_type": "execute_result"
    }
   ],
   "source": [
    "tweets_api[\"clean_tweet\"] = tweets_api.clean_tweet.apply(lambda x: x.lstrip(\"[\"))\n",
    "tweets_api[\"clean_tweet\"] = tweets_api.clean_tweet.apply(lambda x: x.rstrip(\"]\"))\n",
    "tweets_api[\"clean_tweet\"] = tweets_api.clean_tweet.apply(lambda x: x.split(\",\"))\n",
    "tweets_api[\"clean_tweet\"] = tweets_api.clean_tweet.apply(lambda x: [s.replace(\"'\",\"\") for s in x])\n",
    "tweets_api[\"clean_tweet\"] = tweets_api.clean_tweet.apply(lambda x: [s.replace('\"',\"\") for s in x])\n",
    "tweets_api.head(2)"
   ]
  },
  {
   "cell_type": "code",
   "execution_count": 9,
   "metadata": {},
   "outputs": [],
   "source": [
    "# Create class object.\n",
    "tokenizer = preprocessing.text.Tokenizer(num_words = 500000, filters='!\"#$%&()*+,-./:;<=>?@[\\]^_`{|}~', \n",
    "                                               lower = True)\n",
    "\n",
    "# Updates internal vocabulary based on a list of texts.\n",
    "# In our case, since texts contains lists, it is assumed each entry of the lists to be a token.\n",
    "tokenizer.fit_on_texts(tweets_api['clean_tweet'].values)"
   ]
  },
  {
   "cell_type": "code",
   "execution_count": 10,
   "metadata": {},
   "outputs": [],
   "source": [
    "X = tokenizer.texts_to_sequences(tweets_api[\"clean_tweet\"].values)\n",
    "X = preprocessing.sequence.pad_sequences(X, maxlen = 392)"
   ]
  },
  {
   "cell_type": "code",
   "execution_count": 11,
   "metadata": {},
   "outputs": [
    {
     "data": {
      "text/plain": [
       "array([[   0,    0,    0, ...,  168, 2630, 1722],\n",
       "       [   0,    0,    0, ..., 4015,  970, 3177],\n",
       "       [   0,    0,    0, ...,    7, 8504,   42],\n",
       "       ...,\n",
       "       [   0,    0,    0, ...,   13,    2, 3735],\n",
       "       [   0,    0,    0, ..., 1478,  555, 2346],\n",
       "       [   0,    0,    0, ...,  728,  183, 1237]])"
      ]
     },
     "execution_count": 11,
     "metadata": {},
     "output_type": "execute_result"
    }
   ],
   "source": [
    "X"
   ]
  },
  {
   "cell_type": "code",
   "execution_count": 12,
   "metadata": {},
   "outputs": [
    {
     "ename": "OSError",
     "evalue": "Unable to open file (truncated file: eof = 58009951, sblock->base_addr = 0, stored_eof = 60569360)",
     "output_type": "error",
     "traceback": [
      "\u001b[1;31m---------------------------------------------------------------------------\u001b[0m",
      "\u001b[1;31mOSError\u001b[0m                                   Traceback (most recent call last)",
      "\u001b[1;32m<ipython-input-12-18ed21094993>\u001b[0m in \u001b[0;36m<module>\u001b[1;34m\u001b[0m\n\u001b[1;32m----> 1\u001b[1;33m \u001b[0mkeras_model\u001b[0m \u001b[1;33m=\u001b[0m \u001b[0mmodels\u001b[0m\u001b[1;33m.\u001b[0m\u001b[0mload_model\u001b[0m\u001b[1;33m(\u001b[0m\u001b[1;34m\"trained_model/tf_keras_model.h5\"\u001b[0m\u001b[1;33m)\u001b[0m\u001b[1;33m\u001b[0m\u001b[1;33m\u001b[0m\u001b[0m\n\u001b[0m",
      "\u001b[1;32m~\\anaconda3\\lib\\site-packages\\keras\\utils\\traceback_utils.py\u001b[0m in \u001b[0;36merror_handler\u001b[1;34m(*args, **kwargs)\u001b[0m\n\u001b[0;32m     65\u001b[0m     \u001b[1;32mexcept\u001b[0m \u001b[0mException\u001b[0m \u001b[1;32mas\u001b[0m \u001b[0me\u001b[0m\u001b[1;33m:\u001b[0m  \u001b[1;31m# pylint: disable=broad-except\u001b[0m\u001b[1;33m\u001b[0m\u001b[1;33m\u001b[0m\u001b[0m\n\u001b[0;32m     66\u001b[0m       \u001b[0mfiltered_tb\u001b[0m \u001b[1;33m=\u001b[0m \u001b[0m_process_traceback_frames\u001b[0m\u001b[1;33m(\u001b[0m\u001b[0me\u001b[0m\u001b[1;33m.\u001b[0m\u001b[0m__traceback__\u001b[0m\u001b[1;33m)\u001b[0m\u001b[1;33m\u001b[0m\u001b[1;33m\u001b[0m\u001b[0m\n\u001b[1;32m---> 67\u001b[1;33m       \u001b[1;32mraise\u001b[0m \u001b[0me\u001b[0m\u001b[1;33m.\u001b[0m\u001b[0mwith_traceback\u001b[0m\u001b[1;33m(\u001b[0m\u001b[0mfiltered_tb\u001b[0m\u001b[1;33m)\u001b[0m \u001b[1;32mfrom\u001b[0m \u001b[1;32mNone\u001b[0m\u001b[1;33m\u001b[0m\u001b[1;33m\u001b[0m\u001b[0m\n\u001b[0m\u001b[0;32m     68\u001b[0m     \u001b[1;32mfinally\u001b[0m\u001b[1;33m:\u001b[0m\u001b[1;33m\u001b[0m\u001b[1;33m\u001b[0m\u001b[0m\n\u001b[0;32m     69\u001b[0m       \u001b[1;32mdel\u001b[0m \u001b[0mfiltered_tb\u001b[0m\u001b[1;33m\u001b[0m\u001b[1;33m\u001b[0m\u001b[0m\n",
      "\u001b[1;32m~\\anaconda3\\lib\\site-packages\\h5py\\_hl\\files.py\u001b[0m in \u001b[0;36m__init__\u001b[1;34m(self, name, mode, driver, libver, userblock_size, swmr, rdcc_nslots, rdcc_nbytes, rdcc_w0, track_order, **kwds)\u001b[0m\n\u001b[0;32m    404\u001b[0m             \u001b[1;32mwith\u001b[0m \u001b[0mphil\u001b[0m\u001b[1;33m:\u001b[0m\u001b[1;33m\u001b[0m\u001b[1;33m\u001b[0m\u001b[0m\n\u001b[0;32m    405\u001b[0m                 \u001b[0mfapl\u001b[0m \u001b[1;33m=\u001b[0m \u001b[0mmake_fapl\u001b[0m\u001b[1;33m(\u001b[0m\u001b[0mdriver\u001b[0m\u001b[1;33m,\u001b[0m \u001b[0mlibver\u001b[0m\u001b[1;33m,\u001b[0m \u001b[0mrdcc_nslots\u001b[0m\u001b[1;33m,\u001b[0m \u001b[0mrdcc_nbytes\u001b[0m\u001b[1;33m,\u001b[0m \u001b[0mrdcc_w0\u001b[0m\u001b[1;33m,\u001b[0m \u001b[1;33m**\u001b[0m\u001b[0mkwds\u001b[0m\u001b[1;33m)\u001b[0m\u001b[1;33m\u001b[0m\u001b[1;33m\u001b[0m\u001b[0m\n\u001b[1;32m--> 406\u001b[1;33m                 fid = make_fid(name, mode, userblock_size,\n\u001b[0m\u001b[0;32m    407\u001b[0m                                \u001b[0mfapl\u001b[0m\u001b[1;33m,\u001b[0m \u001b[0mfcpl\u001b[0m\u001b[1;33m=\u001b[0m\u001b[0mmake_fcpl\u001b[0m\u001b[1;33m(\u001b[0m\u001b[0mtrack_order\u001b[0m\u001b[1;33m=\u001b[0m\u001b[0mtrack_order\u001b[0m\u001b[1;33m)\u001b[0m\u001b[1;33m,\u001b[0m\u001b[1;33m\u001b[0m\u001b[1;33m\u001b[0m\u001b[0m\n\u001b[0;32m    408\u001b[0m                                swmr=swmr)\n",
      "\u001b[1;32m~\\anaconda3\\lib\\site-packages\\h5py\\_hl\\files.py\u001b[0m in \u001b[0;36mmake_fid\u001b[1;34m(name, mode, userblock_size, fapl, fcpl, swmr)\u001b[0m\n\u001b[0;32m    171\u001b[0m         \u001b[1;32mif\u001b[0m \u001b[0mswmr\u001b[0m \u001b[1;32mand\u001b[0m \u001b[0mswmr_support\u001b[0m\u001b[1;33m:\u001b[0m\u001b[1;33m\u001b[0m\u001b[1;33m\u001b[0m\u001b[0m\n\u001b[0;32m    172\u001b[0m             \u001b[0mflags\u001b[0m \u001b[1;33m|=\u001b[0m \u001b[0mh5f\u001b[0m\u001b[1;33m.\u001b[0m\u001b[0mACC_SWMR_READ\u001b[0m\u001b[1;33m\u001b[0m\u001b[1;33m\u001b[0m\u001b[0m\n\u001b[1;32m--> 173\u001b[1;33m         \u001b[0mfid\u001b[0m \u001b[1;33m=\u001b[0m \u001b[0mh5f\u001b[0m\u001b[1;33m.\u001b[0m\u001b[0mopen\u001b[0m\u001b[1;33m(\u001b[0m\u001b[0mname\u001b[0m\u001b[1;33m,\u001b[0m \u001b[0mflags\u001b[0m\u001b[1;33m,\u001b[0m \u001b[0mfapl\u001b[0m\u001b[1;33m=\u001b[0m\u001b[0mfapl\u001b[0m\u001b[1;33m)\u001b[0m\u001b[1;33m\u001b[0m\u001b[1;33m\u001b[0m\u001b[0m\n\u001b[0m\u001b[0;32m    174\u001b[0m     \u001b[1;32melif\u001b[0m \u001b[0mmode\u001b[0m \u001b[1;33m==\u001b[0m \u001b[1;34m'r+'\u001b[0m\u001b[1;33m:\u001b[0m\u001b[1;33m\u001b[0m\u001b[1;33m\u001b[0m\u001b[0m\n\u001b[0;32m    175\u001b[0m         \u001b[0mfid\u001b[0m \u001b[1;33m=\u001b[0m \u001b[0mh5f\u001b[0m\u001b[1;33m.\u001b[0m\u001b[0mopen\u001b[0m\u001b[1;33m(\u001b[0m\u001b[0mname\u001b[0m\u001b[1;33m,\u001b[0m \u001b[0mh5f\u001b[0m\u001b[1;33m.\u001b[0m\u001b[0mACC_RDWR\u001b[0m\u001b[1;33m,\u001b[0m \u001b[0mfapl\u001b[0m\u001b[1;33m=\u001b[0m\u001b[0mfapl\u001b[0m\u001b[1;33m)\u001b[0m\u001b[1;33m\u001b[0m\u001b[1;33m\u001b[0m\u001b[0m\n",
      "\u001b[1;32mh5py\\_objects.pyx\u001b[0m in \u001b[0;36mh5py._objects.with_phil.wrapper\u001b[1;34m()\u001b[0m\n",
      "\u001b[1;32mh5py\\_objects.pyx\u001b[0m in \u001b[0;36mh5py._objects.with_phil.wrapper\u001b[1;34m()\u001b[0m\n",
      "\u001b[1;32mh5py\\h5f.pyx\u001b[0m in \u001b[0;36mh5py.h5f.open\u001b[1;34m()\u001b[0m\n",
      "\u001b[1;31mOSError\u001b[0m: Unable to open file (truncated file: eof = 58009951, sblock->base_addr = 0, stored_eof = 60569360)"
     ]
    }
   ],
   "source": [
    "keras_model = models.load_model(\"trained_model/tf_keras_model.h5\")"
   ]
  },
  {
   "cell_type": "code",
   "execution_count": 13,
   "metadata": {},
   "outputs": [
    {
     "ename": "NameError",
     "evalue": "name 'keras_model' is not defined",
     "output_type": "error",
     "traceback": [
      "\u001b[1;31m---------------------------------------------------------------------------\u001b[0m",
      "\u001b[1;31mNameError\u001b[0m                                 Traceback (most recent call last)",
      "\u001b[1;32m<ipython-input-13-81ed83d75a0f>\u001b[0m in \u001b[0;36m<module>\u001b[1;34m\u001b[0m\n\u001b[1;32m----> 1\u001b[1;33m \u001b[0mkeras_model\u001b[0m\u001b[1;33m.\u001b[0m\u001b[0msummary\u001b[0m\u001b[1;33m(\u001b[0m\u001b[1;33m)\u001b[0m\u001b[1;33m\u001b[0m\u001b[1;33m\u001b[0m\u001b[0m\n\u001b[0m",
      "\u001b[1;31mNameError\u001b[0m: name 'keras_model' is not defined"
     ]
    }
   ],
   "source": [
    "keras_model.summary()"
   ]
  },
  {
   "cell_type": "code",
   "execution_count": 15,
   "metadata": {},
   "outputs": [],
   "source": [
    "# Predict\n",
    "y_pred = keras_model.predict(X)\n",
    "y_pred = np.round(y_pred).astype(int)"
   ]
  },
  {
   "cell_type": "code",
   "execution_count": 29,
   "metadata": {},
   "outputs": [
    {
     "name": "stdout",
     "output_type": "stream",
     "text": [
      "(1030, 10)\n"
     ]
    },
    {
     "data": {
      "text/html": [
       "<div>\n",
       "<style scoped>\n",
       "    .dataframe tbody tr th:only-of-type {\n",
       "        vertical-align: middle;\n",
       "    }\n",
       "\n",
       "    .dataframe tbody tr th {\n",
       "        vertical-align: top;\n",
       "    }\n",
       "\n",
       "    .dataframe thead th {\n",
       "        text-align: right;\n",
       "    }\n",
       "</style>\n",
       "<table border=\"1\" class=\"dataframe\">\n",
       "  <thead>\n",
       "    <tr style=\"text-align: right;\">\n",
       "      <th></th>\n",
       "      <th>tweet_id</th>\n",
       "      <th>lang</th>\n",
       "      <th>possibly_sensitive</th>\n",
       "      <th>created_at</th>\n",
       "      <th>text</th>\n",
       "      <th>type</th>\n",
       "      <th>withheld.copyright</th>\n",
       "      <th>withheld.country_codes</th>\n",
       "      <th>clean_tweet</th>\n",
       "      <th>toxic</th>\n",
       "    </tr>\n",
       "  </thead>\n",
       "  <tbody>\n",
       "    <tr>\n",
       "      <th>0</th>\n",
       "      <td>1465763129837723649</td>\n",
       "      <td>en</td>\n",
       "      <td>False</td>\n",
       "      <td>2021-11-30T19:22:17.000Z</td>\n",
       "      <td>So when I post pictures of Iron Man Thor Hawke...</td>\n",
       "      <td>quoted</td>\n",
       "      <td>NaN</td>\n",
       "      <td>NaN</td>\n",
       "      <td>[black,  iron,  hey,  hawkeye,  mcu,  got,  th...</td>\n",
       "      <td>1</td>\n",
       "    </tr>\n",
       "    <tr>\n",
       "      <th>1</th>\n",
       "      <td>1465762654039982086</td>\n",
       "      <td>en</td>\n",
       "      <td>False</td>\n",
       "      <td>2021-11-30T19:20:23.000Z</td>\n",
       "      <td>@andyparkart @screenrant @SimuLiu @shangchi Us...</td>\n",
       "      <td>replied_to</td>\n",
       "      <td>NaN</td>\n",
       "      <td>NaN</td>\n",
       "      <td>[black,  upgrade,  look,  make,  first,  secon...</td>\n",
       "      <td>0</td>\n",
       "    </tr>\n",
       "  </tbody>\n",
       "</table>\n",
       "</div>"
      ],
      "text/plain": [
       "              tweet_id lang  possibly_sensitive                created_at  \\\n",
       "0  1465763129837723649   en               False  2021-11-30T19:22:17.000Z   \n",
       "1  1465762654039982086   en               False  2021-11-30T19:20:23.000Z   \n",
       "\n",
       "                                                text        type  \\\n",
       "0  So when I post pictures of Iron Man Thor Hawke...      quoted   \n",
       "1  @andyparkart @screenrant @SimuLiu @shangchi Us...  replied_to   \n",
       "\n",
       "  withheld.copyright withheld.country_codes  \\\n",
       "0                NaN                    NaN   \n",
       "1                NaN                    NaN   \n",
       "\n",
       "                                         clean_tweet  toxic  \n",
       "0  [black,  iron,  hey,  hawkeye,  mcu,  got,  th...      1  \n",
       "1  [black,  upgrade,  look,  make,  first,  secon...      0  "
      ]
     },
     "execution_count": 29,
     "metadata": {},
     "output_type": "execute_result"
    }
   ],
   "source": [
    "copia = tweets_api.copy()\n",
    "copia[\"toxic\"] = y_pred\n",
    "print(copia.shape)\n",
    "copia.head(2)"
   ]
  },
  {
   "cell_type": "code",
   "execution_count": 24,
   "metadata": {},
   "outputs": [
    {
     "data": {
      "text/plain": [
       "\"@HillaryMonahan Favorite movie of 2021 released this year: Black Widow\\n\\nNew to me but released earlier: N/A I think\\n\\nLeast favorite movie of 2021: Also Black Widow, by default.... \\n\\n(It's not been a good year for movies for us lol)\""
      ]
     },
     "execution_count": 24,
     "metadata": {},
     "output_type": "execute_result"
    }
   ],
   "source": [
    "copia.text.iloc[36]"
   ]
  },
  {
   "cell_type": "code",
   "execution_count": 28,
   "metadata": {},
   "outputs": [
    {
     "name": "stdout",
     "output_type": "stream",
     "text": [
      "La verdad es que desde que sacaron al personaje de Tony Stark aka mi papi Ironman ya no me interesa Marvel como antes :'( me quedé en wandavision, ni black widow he visto u.u\n"
     ]
    }
   ],
   "source": [
    "print(copia.text.iloc[1004])"
   ]
  },
  {
   "cell_type": "code",
   "execution_count": 23,
   "metadata": {},
   "outputs": [
    {
     "data": {
      "text/html": [
       "<div>\n",
       "<style scoped>\n",
       "    .dataframe tbody tr th:only-of-type {\n",
       "        vertical-align: middle;\n",
       "    }\n",
       "\n",
       "    .dataframe tbody tr th {\n",
       "        vertical-align: top;\n",
       "    }\n",
       "\n",
       "    .dataframe thead th {\n",
       "        text-align: right;\n",
       "    }\n",
       "</style>\n",
       "<table border=\"1\" class=\"dataframe\">\n",
       "  <thead>\n",
       "    <tr style=\"text-align: right;\">\n",
       "      <th></th>\n",
       "      <th>tweet_id</th>\n",
       "      <th>lang</th>\n",
       "      <th>possibly_sensitive</th>\n",
       "      <th>created_at</th>\n",
       "      <th>text</th>\n",
       "      <th>type</th>\n",
       "      <th>withheld.copyright</th>\n",
       "      <th>withheld.country_codes</th>\n",
       "      <th>clean_tweet</th>\n",
       "      <th>toxic</th>\n",
       "    </tr>\n",
       "  </thead>\n",
       "  <tbody>\n",
       "    <tr>\n",
       "      <th>0</th>\n",
       "      <td>1465763129837723649</td>\n",
       "      <td>en</td>\n",
       "      <td>False</td>\n",
       "      <td>2021-11-30T19:22:17.000Z</td>\n",
       "      <td>So when I post pictures of Iron Man Thor Hawke...</td>\n",
       "      <td>quoted</td>\n",
       "      <td>NaN</td>\n",
       "      <td>NaN</td>\n",
       "      <td>[black,  iron,  hey,  hawkeye,  mcu,  got,  th...</td>\n",
       "      <td>1</td>\n",
       "    </tr>\n",
       "    <tr>\n",
       "      <th>9</th>\n",
       "      <td>1465761574732197890</td>\n",
       "      <td>und</td>\n",
       "      <td>False</td>\n",
       "      <td>2021-11-30T19:16:06.000Z</td>\n",
       "      <td>https://t.co/lrwn6kXVTJ</td>\n",
       "      <td>NaN</td>\n",
       "      <td>NaN</td>\n",
       "      <td>NaN</td>\n",
       "      <td>[]</td>\n",
       "      <td>1</td>\n",
       "    </tr>\n",
       "    <tr>\n",
       "      <th>36</th>\n",
       "      <td>1465755695836499985</td>\n",
       "      <td>en</td>\n",
       "      <td>False</td>\n",
       "      <td>2021-11-30T18:52:44.000Z</td>\n",
       "      <td>@HillaryMonahan Favorite movie of 2021 release...</td>\n",
       "      <td>replied_to</td>\n",
       "      <td>NaN</td>\n",
       "      <td>NaN</td>\n",
       "      <td>[black,  least,  widow,  year,  ),  movie,  ea...</td>\n",
       "      <td>1</td>\n",
       "    </tr>\n",
       "    <tr>\n",
       "      <th>52</th>\n",
       "      <td>1465753975798521867</td>\n",
       "      <td>en</td>\n",
       "      <td>False</td>\n",
       "      <td>2021-11-30T18:45:54.000Z</td>\n",
       "      <td>tell myself black widow behaving very bad 😭 ht...</td>\n",
       "      <td>quoted</td>\n",
       "      <td>NaN</td>\n",
       "      <td>NaN</td>\n",
       "      <td>[black,  behaving,  tell,  bad,  widow]</td>\n",
       "      <td>1</td>\n",
       "    </tr>\n",
       "    <tr>\n",
       "      <th>70</th>\n",
       "      <td>1465751189988036616</td>\n",
       "      <td>en</td>\n",
       "      <td>False</td>\n",
       "      <td>2021-11-30T18:34:50.000Z</td>\n",
       "      <td>@shrekfan3000 The one we live in where black w...</td>\n",
       "      <td>replied_to</td>\n",
       "      <td>NaN</td>\n",
       "      <td>NaN</td>\n",
       "      <td>[black,  live,  widow,  bone,  one]</td>\n",
       "      <td>1</td>\n",
       "    </tr>\n",
       "    <tr>\n",
       "      <th>...</th>\n",
       "      <td>...</td>\n",
       "      <td>...</td>\n",
       "      <td>...</td>\n",
       "      <td>...</td>\n",
       "      <td>...</td>\n",
       "      <td>...</td>\n",
       "      <td>...</td>\n",
       "      <td>...</td>\n",
       "      <td>...</td>\n",
       "      <td>...</td>\n",
       "    </tr>\n",
       "    <tr>\n",
       "      <th>1004</th>\n",
       "      <td>1465461042163683331</td>\n",
       "      <td>es</td>\n",
       "      <td>False</td>\n",
       "      <td>2021-11-29T23:21:54.000Z</td>\n",
       "      <td>La verdad es que desde que sacaron al personaj...</td>\n",
       "      <td>replied_to</td>\n",
       "      <td>NaN</td>\n",
       "      <td>NaN</td>\n",
       "      <td>[black,  wandavision,  sacaron,  interesa,  wi...</td>\n",
       "      <td>1</td>\n",
       "    </tr>\n",
       "    <tr>\n",
       "      <th>1017</th>\n",
       "      <td>1465456958551564288</td>\n",
       "      <td>en</td>\n",
       "      <td>False</td>\n",
       "      <td>2021-11-29T23:05:40.000Z</td>\n",
       "      <td>Kinda difficult to root for the Black Widow wh...</td>\n",
       "      <td>NaN</td>\n",
       "      <td>NaN</td>\n",
       "      <td>NaN</td>\n",
       "      <td>[black,  root,  difficult,  go,  murder,  pris...</td>\n",
       "      <td>1</td>\n",
       "    </tr>\n",
       "    <tr>\n",
       "      <th>1022</th>\n",
       "      <td>1465456736945463296</td>\n",
       "      <td>en</td>\n",
       "      <td>False</td>\n",
       "      <td>2021-11-29T23:04:47.000Z</td>\n",
       "      <td>I’ve been bit by a black widow but never a bro...</td>\n",
       "      <td>NaN</td>\n",
       "      <td>NaN</td>\n",
       "      <td>NaN</td>\n",
       "      <td>[black,  never,  recluse,  I,  widow,  bit,  b...</td>\n",
       "      <td>1</td>\n",
       "    </tr>\n",
       "    <tr>\n",
       "      <th>1023</th>\n",
       "      <td>1465456691785383954</td>\n",
       "      <td>en</td>\n",
       "      <td>False</td>\n",
       "      <td>2021-11-29T23:04:36.000Z</td>\n",
       "      <td>https://t.co/Q8MILBXkn8 Widow&amp;amp;avatar=6</td>\n",
       "      <td>NaN</td>\n",
       "      <td>NaN</td>\n",
       "      <td>NaN</td>\n",
       "      <td>[]</td>\n",
       "      <td>1</td>\n",
       "    </tr>\n",
       "    <tr>\n",
       "      <th>1024</th>\n",
       "      <td>1465456672835571717</td>\n",
       "      <td>fr</td>\n",
       "      <td>False</td>\n",
       "      <td>2021-11-29T23:04:32.000Z</td>\n",
       "      <td>En vrai Black Widow ça passe de ouf, dommage q...</td>\n",
       "      <td>NaN</td>\n",
       "      <td>NaN</td>\n",
       "      <td>NaN</td>\n",
       "      <td>[black,  passe,  ouf,  en,  soit,  salle,  sor...</td>\n",
       "      <td>1</td>\n",
       "    </tr>\n",
       "  </tbody>\n",
       "</table>\n",
       "<p>151 rows × 10 columns</p>\n",
       "</div>"
      ],
      "text/plain": [
       "                 tweet_id lang  possibly_sensitive                created_at  \\\n",
       "0     1465763129837723649   en               False  2021-11-30T19:22:17.000Z   \n",
       "9     1465761574732197890  und               False  2021-11-30T19:16:06.000Z   \n",
       "36    1465755695836499985   en               False  2021-11-30T18:52:44.000Z   \n",
       "52    1465753975798521867   en               False  2021-11-30T18:45:54.000Z   \n",
       "70    1465751189988036616   en               False  2021-11-30T18:34:50.000Z   \n",
       "...                   ...  ...                 ...                       ...   \n",
       "1004  1465461042163683331   es               False  2021-11-29T23:21:54.000Z   \n",
       "1017  1465456958551564288   en               False  2021-11-29T23:05:40.000Z   \n",
       "1022  1465456736945463296   en               False  2021-11-29T23:04:47.000Z   \n",
       "1023  1465456691785383954   en               False  2021-11-29T23:04:36.000Z   \n",
       "1024  1465456672835571717   fr               False  2021-11-29T23:04:32.000Z   \n",
       "\n",
       "                                                   text        type  \\\n",
       "0     So when I post pictures of Iron Man Thor Hawke...      quoted   \n",
       "9                               https://t.co/lrwn6kXVTJ         NaN   \n",
       "36    @HillaryMonahan Favorite movie of 2021 release...  replied_to   \n",
       "52    tell myself black widow behaving very bad 😭 ht...      quoted   \n",
       "70    @shrekfan3000 The one we live in where black w...  replied_to   \n",
       "...                                                 ...         ...   \n",
       "1004  La verdad es que desde que sacaron al personaj...  replied_to   \n",
       "1017  Kinda difficult to root for the Black Widow wh...         NaN   \n",
       "1022  I’ve been bit by a black widow but never a bro...         NaN   \n",
       "1023         https://t.co/Q8MILBXkn8 Widow&amp;avatar=6         NaN   \n",
       "1024  En vrai Black Widow ça passe de ouf, dommage q...         NaN   \n",
       "\n",
       "     withheld.copyright withheld.country_codes  \\\n",
       "0                   NaN                    NaN   \n",
       "9                   NaN                    NaN   \n",
       "36                  NaN                    NaN   \n",
       "52                  NaN                    NaN   \n",
       "70                  NaN                    NaN   \n",
       "...                 ...                    ...   \n",
       "1004                NaN                    NaN   \n",
       "1017                NaN                    NaN   \n",
       "1022                NaN                    NaN   \n",
       "1023                NaN                    NaN   \n",
       "1024                NaN                    NaN   \n",
       "\n",
       "                                            clean_tweet  toxic  \n",
       "0     [black,  iron,  hey,  hawkeye,  mcu,  got,  th...      1  \n",
       "9                                                    []      1  \n",
       "36    [black,  least,  widow,  year,  ),  movie,  ea...      1  \n",
       "52              [black,  behaving,  tell,  bad,  widow]      1  \n",
       "70                  [black,  live,  widow,  bone,  one]      1  \n",
       "...                                                 ...    ...  \n",
       "1004  [black,  wandavision,  sacaron,  interesa,  wi...      1  \n",
       "1017  [black,  root,  difficult,  go,  murder,  pris...      1  \n",
       "1022  [black,  never,  recluse,  I,  widow,  bit,  b...      1  \n",
       "1023                                                 []      1  \n",
       "1024  [black,  passe,  ouf,  en,  soit,  salle,  sor...      1  \n",
       "\n",
       "[151 rows x 10 columns]"
      ]
     },
     "execution_count": 23,
     "metadata": {},
     "output_type": "execute_result"
    }
   ],
   "source": [
    "copia[copia[\"toxic\"] == 1]"
   ]
  },
  {
   "cell_type": "code",
   "execution_count": null,
   "metadata": {},
   "outputs": [],
   "source": []
  }
 ],
 "metadata": {
  "hide_input": false,
  "kernelspec": {
   "display_name": "Python 3",
   "language": "python",
   "name": "python3"
  },
  "language_info": {
   "codemirror_mode": {
    "name": "ipython",
    "version": 3
   },
   "file_extension": ".py",
   "mimetype": "text/x-python",
   "name": "python",
   "nbconvert_exporter": "python",
   "pygments_lexer": "ipython3",
   "version": "3.8.5"
  },
  "latex_envs": {
   "LaTeX_envs_menu_present": true,
   "autoclose": false,
   "autocomplete": true,
   "bibliofile": "biblio.bib",
   "cite_by": "apalike",
   "current_citInitial": 1,
   "eqLabelWithNumbers": true,
   "eqNumInitial": 1,
   "hotkeys": {
    "equation": "Ctrl-E",
    "itemize": "Ctrl-I"
   },
   "labels_anchors": false,
   "latex_user_defs": false,
   "report_style_numbering": false,
   "user_envs_cfg": false
  },
  "nbTranslate": {
   "displayLangs": [
    "*"
   ],
   "hotkey": "alt-t",
   "langInMainMenu": true,
   "sourceLang": "en",
   "targetLang": "fr",
   "useGoogleTranslate": true
  }
 },
 "nbformat": 4,
 "nbformat_minor": 4
}
